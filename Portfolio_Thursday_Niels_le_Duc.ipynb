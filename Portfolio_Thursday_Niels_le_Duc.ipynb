{
  "nbformat": 4,
  "nbformat_minor": 0,
  "metadata": {
    "colab": {
      "name": "Portfolio Thursday - Niels le Duc.ipynb",
      "provenance": [],
      "include_colab_link": true
    },
    "kernelspec": {
      "name": "python3",
      "display_name": "Python 3"
    }
  },
  "cells": [
    {
      "cell_type": "markdown",
      "metadata": {
        "id": "view-in-github",
        "colab_type": "text"
      },
      "source": [
        "<a href=\"https://colab.research.google.com/github/nielsleduc/sds-phd19/blob/master/Portfolio_Thursday_Niels_le_Duc.ipynb\" target=\"_parent\"><img src=\"https://colab.research.google.com/assets/colab-badge.svg\" alt=\"Open In Colab\"/></a>"
      ]
    },
    {
      "cell_type": "markdown",
      "metadata": {
        "id": "ftWYINW_tiSp",
        "colab_type": "text"
      },
      "source": [
        "##Portfolio Thursday"
      ]
    },
    {
      "cell_type": "markdown",
      "metadata": {
        "id": "pTqP5EpftbRV",
        "colab_type": "text"
      },
      "source": [
        "\n",
        "##1"
      ]
    },
    {
      "cell_type": "code",
      "metadata": {
        "id": "KQeS7Uo2PCbH",
        "colab_type": "code",
        "colab": {}
      },
      "source": [
        "text = \"I’ve been called many things in my life, but never an optimist. That was fine by me. I believed pessimists lived in a constant state of pleasant surprise: if you always expected the worst, things generally turned out better than you imagined. The only real problem with pessimism, I figured, was that too much of it could accidentally turn you into an optimist.\""
      ],
      "execution_count": 0,
      "outputs": []
    },
    {
      "cell_type": "code",
      "metadata": {
        "id": "cAHps833QL5N",
        "colab_type": "code",
        "colab": {}
      },
      "source": [
        "# Defining stopwords\n",
        "\n",
        "stopwords_en = ['i', 'me', 'my', 'myself', 'we', 'our', 'ours', \n",
        "                'ourselves', 'you', \"you're\", \"you've\", \"you'll\", \n",
        "                \"you'd\", 'your', 'yours', 'yourself', 'yourselves', \n",
        "                'he', 'him', 'his', 'himself', 'she', \"she's\", 'her', \n",
        "                'hers', 'herself', 'it', \"it's\", 'its', 'itself', \n",
        "                'they', 'them', 'their', 'theirs', 'themselves', 'what', \n",
        "                'which', 'who', 'whom', 'this', 'that', \"that'll\", 'these', \n",
        "                'those', 'am', 'is', 'are', 'was', 'were', 'be', 'been', 'being', \n",
        "                'have', 'has', 'had', 'having', 'do', 'does', 'did', 'doing', 'a', \n",
        "                'an', 'the', 'and', 'but', 'if', 'or', 'because', 'as', 'until', \n",
        "                'while', 'of', 'at', 'by', 'for', 'with', 'about', 'against', \n",
        "                'between', 'into', 'through', 'during', 'before', 'after', 'above', \n",
        "                'below', 'to', 'from', 'up', 'down', 'in', 'out', 'on', 'off', 'over', \n",
        "                'under', 'again', 'further', 'then', 'once', 'here', 'there', 'when', \n",
        "                'where', 'why', 'how', 'all', 'any', 'both', 'each', 'few', \n",
        "                'more', 'most', 'other', 'some', 'such', 'no', 'nor', 'not', \n",
        "                'only', 'own', 'same', 'so', 'than', 'too', 'very', 's', 't', 'can', 'will', 'just', \n",
        "                'don', \"don't\", 'should', \"should've\", 'now', 'd', 'll', 'm', 'o', 're', 've', \n",
        "                'y', 'ain', 'aren', \"aren't\", 'couldn', \"couldn't\", 'didn', \"didn't\", 'doesn', \n",
        "                \"doesn't\", 'hadn', \"hadn't\", 'hasn', \"hasn't\", 'haven', \"haven't\", 'isn', \n",
        "                \"isn't\", 'ma', 'mightn', \"mightn't\", 'mustn', \"mustn't\", 'needn', \"needn't\", \n",
        "                'shan', \"shan't\", 'shouldn', \"shouldn't\", 'wasn', \"wasn't\", 'weren', \"weren't\", \n",
        "                'won', \"won't\", 'wouldn', \"wouldn't\"]"
      ],
      "execution_count": 0,
      "outputs": []
    },
    {
      "cell_type": "code",
      "metadata": {
        "id": "8ff8ru8dPez7",
        "colab_type": "code",
        "colab": {
          "base_uri": "https://localhost:8080/",
          "height": 578
        },
        "outputId": "a795b141-067a-40b0-bbf2-d960eaa698f6"
      },
      "source": [
        "[word.strip(r'[\" ,.!?:;\"]') for word in text.lower().split() if word not in stopwords_en and not word.isdigit()]"
      ],
      "execution_count": 317,
      "outputs": [
        {
          "output_type": "execute_result",
          "data": {
            "text/plain": [
              "['i’ve',\n",
              " 'called',\n",
              " 'many',\n",
              " 'things',\n",
              " 'life',\n",
              " 'never',\n",
              " 'optimist',\n",
              " 'fine',\n",
              " 'me',\n",
              " 'believed',\n",
              " 'pessimists',\n",
              " 'lived',\n",
              " 'constant',\n",
              " 'state',\n",
              " 'pleasant',\n",
              " 'surprise',\n",
              " 'always',\n",
              " 'expected',\n",
              " 'worst',\n",
              " 'things',\n",
              " 'generally',\n",
              " 'turned',\n",
              " 'better',\n",
              " 'imagined',\n",
              " 'real',\n",
              " 'problem',\n",
              " 'pessimism',\n",
              " 'figured',\n",
              " 'much',\n",
              " 'could',\n",
              " 'accidentally',\n",
              " 'turn',\n",
              " 'optimist']"
            ]
          },
          "metadata": {
            "tags": []
          },
          "execution_count": 317
        }
      ]
    },
    {
      "cell_type": "code",
      "metadata": {
        "id": "hKvjl_XnQlOS",
        "colab_type": "code",
        "colab": {
          "base_uri": "https://localhost:8080/",
          "height": 85
        },
        "outputId": "e0e5c1f6-e34b-4539-dca4-9dd743ee289c"
      },
      "source": [
        "import nltk \n",
        "nltk.download('punkt')\n",
        "nltk.download('stopwords')\n",
        "\n",
        "# Tokenizing sentences\n",
        "from nltk.tokenize import sent_tokenize\n",
        "\n",
        "# Tokenizing words\n",
        "from nltk.tokenize import word_tokenize"
      ],
      "execution_count": 318,
      "outputs": [
        {
          "output_type": "stream",
          "text": [
            "[nltk_data] Downloading package punkt to /root/nltk_data...\n",
            "[nltk_data]   Unzipping tokenizers/punkt.zip.\n",
            "[nltk_data] Downloading package stopwords to /root/nltk_data...\n",
            "[nltk_data]   Unzipping corpora/stopwords.zip.\n"
          ],
          "name": "stdout"
        }
      ]
    },
    {
      "cell_type": "code",
      "metadata": {
        "id": "0T-WRbFXPida",
        "colab_type": "code",
        "colab": {
          "base_uri": "https://localhost:8080/",
          "height": 54
        },
        "outputId": "2d0b671d-25c4-4d46-9cef-8e9b24648b33"
      },
      "source": [
        "sentences = sent_tokenize(text)\n",
        "print(sentences)"
      ],
      "execution_count": 319,
      "outputs": [
        {
          "output_type": "stream",
          "text": [
            "['I’ve been called many things in my life, but never an optimist.', 'That was fine by me.', 'I believed pessimists lived in a constant state of pleasant surprise: if you always expected the worst, things generally turned out better than you imagined.', 'The only real problem with pessimism, I figured, was that too much of it could accidentally turn you into an optimist.']\n"
          ],
          "name": "stdout"
        }
      ]
    },
    {
      "cell_type": "code",
      "metadata": {
        "id": "RZipTyTlQzM5",
        "colab_type": "code",
        "colab": {
          "base_uri": "https://localhost:8080/",
          "height": 71
        },
        "outputId": "4440b0b6-c951-42ef-e1eb-1f82ac18a664"
      },
      "source": [
        "tokenized_sent = word_tokenize(sentences[1])\n",
        "\n",
        "unique_tokens = set(word_tokenize(text))\n",
        "\n",
        "print(tokenized_sent)\n",
        "print(unique_tokens)"
      ],
      "execution_count": 321,
      "outputs": [
        {
          "output_type": "stream",
          "text": [
            "['That', 'was', 'fine', 'by', 'me', '.']\n",
            "{'by', 'surprise', 'state', 'an', ':', 'the', 'pleasant', 'if', '.', 'in', 'The', 'constant', 'generally', 'it', ',', 'me', 'believed', 'figured', 'turn', 'expected', 'than', 'never', 'many', 'much', 'been', 'accidentally', 'but', 'only', 'of', 'was', 'too', 'lived', 'my', 'better', 'a', 'with', 'fine', 'real', 'things', 'imagined', 'that', 'I', 'problem', 'worst', 'called', '’', 'could', 'pessimists', 'optimist', 'life', 'pessimism', 'out', 'turned', 'That', 'always', 'into', 've', 'you'}\n"
          ],
          "name": "stdout"
        }
      ]
    },
    {
      "cell_type": "code",
      "metadata": {
        "id": "jP_7uxwxQ5Fh",
        "colab_type": "code",
        "colab": {}
      },
      "source": [
        "from nltk.corpus import stopwords\n",
        "stop_words = set(stopwords.words('english')) "
      ],
      "execution_count": 0,
      "outputs": []
    },
    {
      "cell_type": "code",
      "metadata": {
        "id": "bdVqRdZTQ-BW",
        "colab_type": "code",
        "colab": {
          "base_uri": "https://localhost:8080/",
          "height": 629
        },
        "outputId": "6e04cd7b-57d3-450d-8cc4-fd4760d4ff84"
      },
      "source": [
        "[word.lower() for word in word_tokenize(text) if word not in stop_words and word.isalnum()]"
      ],
      "execution_count": 323,
      "outputs": [
        {
          "output_type": "execute_result",
          "data": {
            "text/plain": [
              "['i',\n",
              " 'called',\n",
              " 'many',\n",
              " 'things',\n",
              " 'life',\n",
              " 'never',\n",
              " 'optimist',\n",
              " 'that',\n",
              " 'fine',\n",
              " 'i',\n",
              " 'believed',\n",
              " 'pessimists',\n",
              " 'lived',\n",
              " 'constant',\n",
              " 'state',\n",
              " 'pleasant',\n",
              " 'surprise',\n",
              " 'always',\n",
              " 'expected',\n",
              " 'worst',\n",
              " 'things',\n",
              " 'generally',\n",
              " 'turned',\n",
              " 'better',\n",
              " 'imagined',\n",
              " 'the',\n",
              " 'real',\n",
              " 'problem',\n",
              " 'pessimism',\n",
              " 'i',\n",
              " 'figured',\n",
              " 'much',\n",
              " 'could',\n",
              " 'accidentally',\n",
              " 'turn',\n",
              " 'optimist']"
            ]
          },
          "metadata": {
            "tags": []
          },
          "execution_count": 323
        }
      ]
    },
    {
      "cell_type": "code",
      "metadata": {
        "id": "RpJdjlxnRBHf",
        "colab_type": "code",
        "colab": {}
      },
      "source": [
        ""
      ],
      "execution_count": 0,
      "outputs": []
    },
    {
      "cell_type": "markdown",
      "metadata": {
        "id": "T5wyZwYv0cnB",
        "colab_type": "text"
      },
      "source": [
        "##2"
      ]
    },
    {
      "cell_type": "markdown",
      "metadata": {
        "id": "jjRYpsbR0met",
        "colab_type": "text"
      },
      "source": [
        "The link below holds a datasewt with ~10k #OKBoomer tweets from the days 10-21 Nov.\n",
        "\n",
        "https://github.com/CALDISS-AAU/sdsphd19_coursematerials/raw/master/data/tweets_boomer.zip\n",
        "\n",
        "Use elements from the above code to make a list of the most common hashtags (you have to get the hashtags from the text, not using the column containing them already)\n",
        "\n",
        "Hashtags over time\n",
        "Let's try to do something different and try to have a look at hashtags over time:\n",
        "\n",
        "We will take out the 10 most common hashtags - excluding #OKBoomer - and plot their occurrence over the days in the data\n",
        "\n",
        "Plan of attach:\n",
        "\n",
        "Convert the dataframe into a time-series (by setting a date-time-index)\n",
        "Resample for some time-period: in our case days\n",
        "Calculate the occurence of the specific hashtags in the chosen timespan\n",
        "Plot"
      ]
    },
    {
      "cell_type": "code",
      "metadata": {
        "id": "5RkfrW0r1ENP",
        "colab_type": "code",
        "colab": {}
      },
      "source": [
        "import pandas as pd\n",
        "pd.set_option('display.max_colwidth', -1)\n",
        "\n",
        "import numpy as np\n",
        "import seaborn as sns\n",
        "\n",
        "import itertools\n",
        "from collections import Counter"
      ],
      "execution_count": 0,
      "outputs": []
    },
    {
      "cell_type": "code",
      "metadata": {
        "id": "hj_2XBsS09XW",
        "colab_type": "code",
        "colab": {}
      },
      "source": [
        "# Loading up the data\n",
        "tweets_boomer = pd.read_json('https://github.com/CALDISS-AAU/sdsphd19_coursematerials/raw/master/data/tweets_boomer.zip')"
      ],
      "execution_count": 0,
      "outputs": []
    },
    {
      "cell_type": "code",
      "metadata": {
        "id": "eO-grKrB2tY_",
        "colab_type": "code",
        "colab": {
          "base_uri": "https://localhost:8080/",
          "height": 428
        },
        "outputId": "5ba8b62c-0dd4-4f7b-f4e0-dd88fc337e66"
      },
      "source": [
        "tweets_boomer.head()"
      ],
      "execution_count": 270,
      "outputs": [
        {
          "output_type": "execute_result",
          "data": {
            "text/html": [
              "<div>\n",
              "<style scoped>\n",
              "    .dataframe tbody tr th:only-of-type {\n",
              "        vertical-align: middle;\n",
              "    }\n",
              "\n",
              "    .dataframe tbody tr th {\n",
              "        vertical-align: top;\n",
              "    }\n",
              "\n",
              "    .dataframe thead th {\n",
              "        text-align: right;\n",
              "    }\n",
              "</style>\n",
              "<table border=\"1\" class=\"dataframe\">\n",
              "  <thead>\n",
              "    <tr style=\"text-align: right;\">\n",
              "      <th></th>\n",
              "      <th>id</th>\n",
              "      <th>conversation_id</th>\n",
              "      <th>created_at</th>\n",
              "      <th>date</th>\n",
              "      <th>timezone</th>\n",
              "      <th>place</th>\n",
              "      <th>tweet</th>\n",
              "      <th>hashtags</th>\n",
              "      <th>cashtags</th>\n",
              "      <th>user_id</th>\n",
              "      <th>user_id_str</th>\n",
              "      <th>username</th>\n",
              "      <th>name</th>\n",
              "      <th>day</th>\n",
              "      <th>hour</th>\n",
              "      <th>link</th>\n",
              "      <th>retweet</th>\n",
              "      <th>nlikes</th>\n",
              "      <th>nreplies</th>\n",
              "      <th>nretweets</th>\n",
              "      <th>quote_url</th>\n",
              "      <th>search</th>\n",
              "      <th>near</th>\n",
              "      <th>geo</th>\n",
              "      <th>source</th>\n",
              "      <th>user_rt_id</th>\n",
              "      <th>user_rt</th>\n",
              "      <th>retweet_id</th>\n",
              "      <th>reply_to</th>\n",
              "      <th>retweet_date</th>\n",
              "      <th>lang</th>\n",
              "    </tr>\n",
              "  </thead>\n",
              "  <tbody>\n",
              "    <tr>\n",
              "      <th>0</th>\n",
              "      <td>1197612747715837952</td>\n",
              "      <td>1197612747715837952</td>\n",
              "      <td>2019-11-21 20:28:24</td>\n",
              "      <td>2019-11-21 20:28:24</td>\n",
              "      <td>UTC</td>\n",
              "      <td></td>\n",
              "      <td>Suddenly, #OkBoomer is trending again.  https://twitter.com/Fox35Matt/status/1197185353330909184 …</td>\n",
              "      <td>[#okboomer]</td>\n",
              "      <td>[]</td>\n",
              "      <td>262050686</td>\n",
              "      <td>262050686</td>\n",
              "      <td>DanClarkSports</td>\n",
              "      <td>Dan</td>\n",
              "      <td>3</td>\n",
              "      <td>1</td>\n",
              "      <td>https://twitter.com/DanClarkSports/status/1197612747715837953</td>\n",
              "      <td>False</td>\n",
              "      <td>0</td>\n",
              "      <td>0</td>\n",
              "      <td>0</td>\n",
              "      <td>https://twitter.com/Fox35Matt/status/1197185353330909184</td>\n",
              "      <td>#okboomer</td>\n",
              "      <td></td>\n",
              "      <td></td>\n",
              "      <td></td>\n",
              "      <td></td>\n",
              "      <td></td>\n",
              "      <td></td>\n",
              "      <td>[{'user_id': '262050686', 'username': 'DanClarkSports'}]</td>\n",
              "      <td></td>\n",
              "      <td>en</td>\n",
              "    </tr>\n",
              "    <tr>\n",
              "      <th>1</th>\n",
              "      <td>1197612550403297280</td>\n",
              "      <td>1197612550403297280</td>\n",
              "      <td>2019-11-21 20:27:37</td>\n",
              "      <td>2019-11-21 20:27:37</td>\n",
              "      <td>UTC</td>\n",
              "      <td></td>\n",
              "      <td>I like my role in this 🤷‍♂️ #OkBoomer #GenX pic.twitter.com/6RI4bAsaml</td>\n",
              "      <td>[#okboomer, #genx]</td>\n",
              "      <td>[]</td>\n",
              "      <td>41444665</td>\n",
              "      <td>41444665</td>\n",
              "      <td>sinths</td>\n",
              "      <td>Sven Thomas</td>\n",
              "      <td>2</td>\n",
              "      <td>12</td>\n",
              "      <td>https://twitter.com/sinths/status/1197612550403297280</td>\n",
              "      <td>False</td>\n",
              "      <td>0</td>\n",
              "      <td>0</td>\n",
              "      <td>0</td>\n",
              "      <td></td>\n",
              "      <td>#okboomer</td>\n",
              "      <td></td>\n",
              "      <td></td>\n",
              "      <td></td>\n",
              "      <td></td>\n",
              "      <td></td>\n",
              "      <td></td>\n",
              "      <td>[{'user_id': '41444665', 'username': 'sinths'}]</td>\n",
              "      <td></td>\n",
              "      <td>en</td>\n",
              "    </tr>\n",
              "    <tr>\n",
              "      <th>2</th>\n",
              "      <td>1197612190867476480</td>\n",
              "      <td>1197611882955325440</td>\n",
              "      <td>2019-11-21 20:26:11</td>\n",
              "      <td>2019-11-21 20:26:11</td>\n",
              "      <td>UTC</td>\n",
              "      <td></td>\n",
              "      <td>He looks allot like you. Old and white.\\n\\n#OkBoomer</td>\n",
              "      <td>[#okboomer]</td>\n",
              "      <td>[]</td>\n",
              "      <td>1005516908181925888</td>\n",
              "      <td>1005516908181925888</td>\n",
              "      <td>DustFar</td>\n",
              "      <td>FarThrustStarDust</td>\n",
              "      <td>1</td>\n",
              "      <td>12</td>\n",
              "      <td>https://twitter.com/DustFar/status/1197612190867476481</td>\n",
              "      <td>False</td>\n",
              "      <td>0</td>\n",
              "      <td>1</td>\n",
              "      <td>0</td>\n",
              "      <td></td>\n",
              "      <td>#okboomer</td>\n",
              "      <td></td>\n",
              "      <td></td>\n",
              "      <td></td>\n",
              "      <td></td>\n",
              "      <td></td>\n",
              "      <td></td>\n",
              "      <td>[{'user_id': '1005516908181925888', 'username': 'DustFar'}, {'user_id': '113713991', 'username': 'timstao'}]</td>\n",
              "      <td></td>\n",
              "      <td>en</td>\n",
              "    </tr>\n",
              "    <tr>\n",
              "      <th>3</th>\n",
              "      <td>1197611782669402112</td>\n",
              "      <td>1197611782669402112</td>\n",
              "      <td>2019-11-21 20:24:34</td>\n",
              "      <td>2019-11-21 20:24:34</td>\n",
              "      <td>UTC</td>\n",
              "      <td></td>\n",
              "      <td>wait is my university’s president gaslighting me? #OkBoomer  pic.twitter.com/M2FNkQvKHo</td>\n",
              "      <td>[#okboomer]</td>\n",
              "      <td>[]</td>\n",
              "      <td>2509106274</td>\n",
              "      <td>2509106274</td>\n",
              "      <td>summerash99</td>\n",
              "      <td>queer, sultry summer</td>\n",
              "      <td>7</td>\n",
              "      <td>9</td>\n",
              "      <td>https://twitter.com/summerash99/status/1197611782669402113</td>\n",
              "      <td>False</td>\n",
              "      <td>1</td>\n",
              "      <td>0</td>\n",
              "      <td>0</td>\n",
              "      <td></td>\n",
              "      <td>#okboomer</td>\n",
              "      <td></td>\n",
              "      <td></td>\n",
              "      <td></td>\n",
              "      <td></td>\n",
              "      <td></td>\n",
              "      <td></td>\n",
              "      <td>[{'user_id': '2509106274', 'username': 'summerash99'}]</td>\n",
              "      <td></td>\n",
              "      <td>en</td>\n",
              "    </tr>\n",
              "    <tr>\n",
              "      <th>4</th>\n",
              "      <td>1197611614687637504</td>\n",
              "      <td>1197611614687637504</td>\n",
              "      <td>2019-11-21 20:23:54</td>\n",
              "      <td>2019-11-21 20:23:54</td>\n",
              "      <td>UTC</td>\n",
              "      <td></td>\n",
              "      <td>Shut up Conway you whiny, fragile fossil. #okboomer #expirealready</td>\n",
              "      <td>[#okboomer, #expirealready]</td>\n",
              "      <td>[]</td>\n",
              "      <td>2789202068</td>\n",
              "      <td>2789202068</td>\n",
              "      <td>Crayondroids</td>\n",
              "      <td>Crayondroids</td>\n",
              "      <td>6</td>\n",
              "      <td>22</td>\n",
              "      <td>https://twitter.com/Crayondroids/status/1197611614687637504</td>\n",
              "      <td>False</td>\n",
              "      <td>0</td>\n",
              "      <td>0</td>\n",
              "      <td>0</td>\n",
              "      <td></td>\n",
              "      <td>#okboomer</td>\n",
              "      <td></td>\n",
              "      <td></td>\n",
              "      <td></td>\n",
              "      <td></td>\n",
              "      <td></td>\n",
              "      <td></td>\n",
              "      <td>[{'user_id': '2789202068', 'username': 'Crayondroids'}]</td>\n",
              "      <td></td>\n",
              "      <td>en</td>\n",
              "    </tr>\n",
              "  </tbody>\n",
              "</table>\n",
              "</div>"
            ],
            "text/plain": [
              "                    id      conversation_id  ... retweet_date lang\n",
              "0  1197612747715837952  1197612747715837952  ...               en \n",
              "1  1197612550403297280  1197612550403297280  ...               en \n",
              "2  1197612190867476480  1197611882955325440  ...               en \n",
              "3  1197611782669402112  1197611782669402112  ...               en \n",
              "4  1197611614687637504  1197611614687637504  ...               en \n",
              "\n",
              "[5 rows x 31 columns]"
            ]
          },
          "metadata": {
            "tags": []
          },
          "execution_count": 270
        }
      ]
    },
    {
      "cell_type": "code",
      "metadata": {
        "id": "3pW7R3_D18UC",
        "colab_type": "code",
        "colab": {}
      },
      "source": [
        "from nltk.tokenize import TweetTokenizer\n",
        "tknzr = TweetTokenizer()"
      ],
      "execution_count": 0,
      "outputs": []
    },
    {
      "cell_type": "code",
      "metadata": {
        "id": "-3QFjMM619Jr",
        "colab_type": "code",
        "colab": {}
      },
      "source": [
        "tweets_boomer['Hashtags'] = tweets_boomer['tweet'].map(lambda textline: [tag for tag in tknzr.tokenize(textline) if tag.startswith('#')])"
      ],
      "execution_count": 0,
      "outputs": []
    },
    {
      "cell_type": "code",
      "metadata": {
        "id": "eV9UnUO-3LGt",
        "colab_type": "code",
        "colab": {}
      },
      "source": [
        "tweets_boomer = tweets_boomer[tweets_boomer['Hashtags'].map(len) > 0]"
      ],
      "execution_count": 0,
      "outputs": []
    },
    {
      "cell_type": "code",
      "metadata": {
        "id": "EWr04cDy3l1o",
        "colab_type": "code",
        "colab": {}
      },
      "source": [
        "tweet_tags = itertools.chain(*tweets_boomer['hashtags'])"
      ],
      "execution_count": 0,
      "outputs": []
    },
    {
      "cell_type": "code",
      "metadata": {
        "id": "dzoj02GI3u8n",
        "colab_type": "code",
        "colab": {
          "base_uri": "https://localhost:8080/",
          "height": 187
        },
        "outputId": "b69ca321-3ea9-4a1e-dfff-b9d8e0e3ba01"
      },
      "source": [
        "counted_tags = Counter(tweet_tags)\n",
        "counted_tags.most_common()[:10]"
      ],
      "execution_count": 275,
      "outputs": [
        {
          "output_type": "execute_result",
          "data": {
            "text/plain": [
              "[('#okboomer', 9774),\n",
              " ('#boomer', 281),\n",
              " ('#millennials', 247),\n",
              " ('#genx', 205),\n",
              " ('#genz', 161),\n",
              " ('#okboomers', 153),\n",
              " ('#oktrumper', 149),\n",
              " ('#boomers', 137),\n",
              " ('#okmillennial', 128),\n",
              " ('#okayboomer', 87)]"
            ]
          },
          "metadata": {
            "tags": []
          },
          "execution_count": 275
        }
      ]
    },
    {
      "cell_type": "markdown",
      "metadata": {
        "id": "f0C0-f-y08Ck",
        "colab_type": "text"
      },
      "source": [
        "##2\n",
        "\n",
        "Perform an LDA analysis of the #OKBoomer dataset\n",
        "\n",
        "Filter the corpus using tweet-preprocessor - try to figure out how to use it using it's documentation\n",
        "-Clean up further with SpaCy (keep only ADV, ADJ, NOUN)\n",
        "-Use Gensim to build a Dictionary (Filter extremes) and Corpus\n",
        "-Use Gensim to run LDA\n",
        "-Identify 10 topics\n",
        "Plot topic-counts by day"
      ]
    },
    {
      "cell_type": "code",
      "metadata": {
        "id": "-yY1CBWFuYzd",
        "colab_type": "code",
        "colab": {
          "base_uri": "https://localhost:8080/",
          "height": 34
        },
        "outputId": "883ba6ad-4afa-4451-bc53-eaa711e68232"
      },
      "source": [
        "!pip install tweet-preprocessor\n",
        "import preprocessor as p"
      ],
      "execution_count": 276,
      "outputs": [
        {
          "output_type": "stream",
          "text": [
            "Requirement already satisfied: tweet-preprocessor in /usr/local/lib/python3.6/dist-packages (0.5.0)\n"
          ],
          "name": "stdout"
        }
      ]
    },
    {
      "cell_type": "code",
      "metadata": {
        "id": "bFh-Xvk84cEY",
        "colab_type": "code",
        "colab": {}
      },
      "source": [
        "from nltk.tokenize import TweetTokenizer\n",
        "tknzr = TweetTokenizer()"
      ],
      "execution_count": 0,
      "outputs": []
    },
    {
      "cell_type": "code",
      "metadata": {
        "id": "Qgcws5KF4sAY",
        "colab_type": "code",
        "colab": {}
      },
      "source": [
        "p.set_options(p.OPT.URL, p.OPT.EMOJI, p.OPT.RESERVED, p.OPT.HASHTAG)"
      ],
      "execution_count": 0,
      "outputs": []
    },
    {
      "cell_type": "code",
      "metadata": {
        "id": "dsWDrT6O47nL",
        "colab_type": "code",
        "colab": {}
      },
      "source": [
        "boomer_tweets_clean = tweets_boomer.tweet.map(p.clean)"
      ],
      "execution_count": 0,
      "outputs": []
    },
    {
      "cell_type": "code",
      "metadata": {
        "id": "eCfKp0s05VhS",
        "colab_type": "code",
        "colab": {}
      },
      "source": [
        "tknzr = TweetTokenizer(strip_handles=True)\n",
        "tweets_boomer['tokenized'] = boomer_tweets_clean.map(lambda t: tknzr.tokenize(t))"
      ],
      "execution_count": 0,
      "outputs": []
    },
    {
      "cell_type": "code",
      "metadata": {
        "id": "jurQtVOD5mzu",
        "colab_type": "code",
        "colab": {}
      },
      "source": [
        "tweets_boomer['tokenized'] = tweets_boomer['tokenized'].map(lambda t: (token.strip('@') for token in t if token.strip))"
      ],
      "execution_count": 0,
      "outputs": []
    },
    {
      "cell_type": "code",
      "metadata": {
        "id": "Brb37RIA71Y8",
        "colab_type": "code",
        "colab": {}
      },
      "source": [
        "tweets_boomer['tokenized'] = tweets_boomer['tokenized'].map(lambda t: ' '.join(t))"
      ],
      "execution_count": 0,
      "outputs": []
    },
    {
      "cell_type": "code",
      "metadata": {
        "id": "h2jG4BLgA1Dn",
        "colab_type": "code",
        "colab": {
          "base_uri": "https://localhost:8080/",
          "height": 221
        },
        "outputId": "d715882f-5975-450f-9026-f4a6b650e32b"
      },
      "source": [
        "tweets_boomer['tokenized']"
      ],
      "execution_count": 283,
      "outputs": [
        {
          "output_type": "execute_result",
          "data": {
            "text/plain": [
              "0        Suddenly , is trending again . …                                                              \n",
              "1        I like my role in this 🤷 ‍ ️                                                                  \n",
              "2        He looks allot like you . Old and white .                                                     \n",
              "3        wait is my university ’ s president gaslighting me ?                                          \n",
              "4        Shut up Conway you whiny , fragile fossil .                                                   \n",
              "                            ...                                                                        \n",
              "10013    LMAO …                                                                                        \n",
              "10014    Good thread …                                                                                 \n",
              "10015    Boomer quote \" either , we cant get fooled again or tge new boss is the old boss , The Who . …\n",
              "10016    I think there's room for both . …                                                             \n",
              "10017    He legit used                                                                                 \n",
              "Name: tokenized, Length: 9722, dtype: object"
            ]
          },
          "metadata": {
            "tags": []
          },
          "execution_count": 283
        }
      ]
    },
    {
      "cell_type": "code",
      "metadata": {
        "id": "40VxOmm3FaPd",
        "colab_type": "code",
        "colab": {}
      },
      "source": [
        "import spacy\n",
        "nlp = spacy.load(\"en\")"
      ],
      "execution_count": 0,
      "outputs": []
    },
    {
      "cell_type": "code",
      "metadata": {
        "id": "W74elt70A_pi",
        "colab_type": "code",
        "colab": {}
      },
      "source": [
        "tokens = []\n",
        "\n",
        "for summary in nlp.pipe(tweets_boomer['tokenized']):\n",
        "  proj_tok = [token.lemma_.lower() for token in summary if token.pos_ in ['NOUN', 'PROPN', 'ADJ', 'ADV'] and not token.is_stop] \n",
        "  tokens.append(proj_tok)"
      ],
      "execution_count": 0,
      "outputs": []
    },
    {
      "cell_type": "code",
      "metadata": {
        "id": "FzIq3klmAosJ",
        "colab_type": "code",
        "colab": {}
      },
      "source": [
        "tweets_boomer['tokenized'] = tokens"
      ],
      "execution_count": 0,
      "outputs": []
    },
    {
      "cell_type": "code",
      "metadata": {
        "id": "djm5hljFHHH3",
        "colab_type": "code",
        "colab": {
          "base_uri": "https://localhost:8080/",
          "height": 204
        },
        "outputId": "8179b2c6-8c08-47f9-dae4-9fad8fba9b9d"
      },
      "source": [
        "tweets_boomer['tokenized'][:10]"
      ],
      "execution_count": 287,
      "outputs": [
        {
          "output_type": "execute_result",
          "data": {
            "text/plain": [
              "0    [suddenly]                                                               \n",
              "1    [role, 🤷, ️]                                                             \n",
              "2    [allot, old, white]                                                      \n",
              "3    [university, president]                                                  \n",
              "4    [conway, fragile, fossil]                                                \n",
              "5    [conway, stupid, old, magat]                                             \n",
              "6    [mom, boomer]                                                            \n",
              "7    [mf, shitty, people, head]                                               \n",
              "8    [guy, witness, mr, holme, mouth]                                         \n",
              "9    [university, semester, transit, pass, acceptable, method, payment, check]\n",
              "Name: tokenized, dtype: object"
            ]
          },
          "metadata": {
            "tags": []
          },
          "execution_count": 287
        }
      ]
    },
    {
      "cell_type": "code",
      "metadata": {
        "id": "PKTWFVkiEhoe",
        "colab_type": "code",
        "colab": {
          "base_uri": "https://localhost:8080/",
          "height": 428
        },
        "outputId": "a12df07a-1077-4ab8-e940-129f98012240"
      },
      "source": [
        "tweets_boomer.head()"
      ],
      "execution_count": 288,
      "outputs": [
        {
          "output_type": "execute_result",
          "data": {
            "text/html": [
              "<div>\n",
              "<style scoped>\n",
              "    .dataframe tbody tr th:only-of-type {\n",
              "        vertical-align: middle;\n",
              "    }\n",
              "\n",
              "    .dataframe tbody tr th {\n",
              "        vertical-align: top;\n",
              "    }\n",
              "\n",
              "    .dataframe thead th {\n",
              "        text-align: right;\n",
              "    }\n",
              "</style>\n",
              "<table border=\"1\" class=\"dataframe\">\n",
              "  <thead>\n",
              "    <tr style=\"text-align: right;\">\n",
              "      <th></th>\n",
              "      <th>id</th>\n",
              "      <th>conversation_id</th>\n",
              "      <th>created_at</th>\n",
              "      <th>date</th>\n",
              "      <th>timezone</th>\n",
              "      <th>place</th>\n",
              "      <th>tweet</th>\n",
              "      <th>hashtags</th>\n",
              "      <th>cashtags</th>\n",
              "      <th>user_id</th>\n",
              "      <th>user_id_str</th>\n",
              "      <th>username</th>\n",
              "      <th>name</th>\n",
              "      <th>day</th>\n",
              "      <th>hour</th>\n",
              "      <th>link</th>\n",
              "      <th>retweet</th>\n",
              "      <th>nlikes</th>\n",
              "      <th>nreplies</th>\n",
              "      <th>nretweets</th>\n",
              "      <th>quote_url</th>\n",
              "      <th>search</th>\n",
              "      <th>near</th>\n",
              "      <th>geo</th>\n",
              "      <th>source</th>\n",
              "      <th>user_rt_id</th>\n",
              "      <th>user_rt</th>\n",
              "      <th>retweet_id</th>\n",
              "      <th>reply_to</th>\n",
              "      <th>retweet_date</th>\n",
              "      <th>lang</th>\n",
              "      <th>Hashtags</th>\n",
              "      <th>tokenized</th>\n",
              "    </tr>\n",
              "  </thead>\n",
              "  <tbody>\n",
              "    <tr>\n",
              "      <th>0</th>\n",
              "      <td>1197612747715837952</td>\n",
              "      <td>1197612747715837952</td>\n",
              "      <td>2019-11-21 20:28:24</td>\n",
              "      <td>2019-11-21 20:28:24</td>\n",
              "      <td>UTC</td>\n",
              "      <td></td>\n",
              "      <td>Suddenly, #OkBoomer is trending again.  https://twitter.com/Fox35Matt/status/1197185353330909184 …</td>\n",
              "      <td>[#okboomer]</td>\n",
              "      <td>[]</td>\n",
              "      <td>262050686</td>\n",
              "      <td>262050686</td>\n",
              "      <td>DanClarkSports</td>\n",
              "      <td>Dan</td>\n",
              "      <td>3</td>\n",
              "      <td>1</td>\n",
              "      <td>https://twitter.com/DanClarkSports/status/1197612747715837953</td>\n",
              "      <td>False</td>\n",
              "      <td>0</td>\n",
              "      <td>0</td>\n",
              "      <td>0</td>\n",
              "      <td>https://twitter.com/Fox35Matt/status/1197185353330909184</td>\n",
              "      <td>#okboomer</td>\n",
              "      <td></td>\n",
              "      <td></td>\n",
              "      <td></td>\n",
              "      <td></td>\n",
              "      <td></td>\n",
              "      <td></td>\n",
              "      <td>[{'user_id': '262050686', 'username': 'DanClarkSports'}]</td>\n",
              "      <td></td>\n",
              "      <td>en</td>\n",
              "      <td>[#OkBoomer]</td>\n",
              "      <td>[suddenly]</td>\n",
              "    </tr>\n",
              "    <tr>\n",
              "      <th>1</th>\n",
              "      <td>1197612550403297280</td>\n",
              "      <td>1197612550403297280</td>\n",
              "      <td>2019-11-21 20:27:37</td>\n",
              "      <td>2019-11-21 20:27:37</td>\n",
              "      <td>UTC</td>\n",
              "      <td></td>\n",
              "      <td>I like my role in this 🤷‍♂️ #OkBoomer #GenX pic.twitter.com/6RI4bAsaml</td>\n",
              "      <td>[#okboomer, #genx]</td>\n",
              "      <td>[]</td>\n",
              "      <td>41444665</td>\n",
              "      <td>41444665</td>\n",
              "      <td>sinths</td>\n",
              "      <td>Sven Thomas</td>\n",
              "      <td>2</td>\n",
              "      <td>12</td>\n",
              "      <td>https://twitter.com/sinths/status/1197612550403297280</td>\n",
              "      <td>False</td>\n",
              "      <td>0</td>\n",
              "      <td>0</td>\n",
              "      <td>0</td>\n",
              "      <td></td>\n",
              "      <td>#okboomer</td>\n",
              "      <td></td>\n",
              "      <td></td>\n",
              "      <td></td>\n",
              "      <td></td>\n",
              "      <td></td>\n",
              "      <td></td>\n",
              "      <td>[{'user_id': '41444665', 'username': 'sinths'}]</td>\n",
              "      <td></td>\n",
              "      <td>en</td>\n",
              "      <td>[#OkBoomer, #GenX]</td>\n",
              "      <td>[role, 🤷, ️]</td>\n",
              "    </tr>\n",
              "    <tr>\n",
              "      <th>2</th>\n",
              "      <td>1197612190867476480</td>\n",
              "      <td>1197611882955325440</td>\n",
              "      <td>2019-11-21 20:26:11</td>\n",
              "      <td>2019-11-21 20:26:11</td>\n",
              "      <td>UTC</td>\n",
              "      <td></td>\n",
              "      <td>He looks allot like you. Old and white.\\n\\n#OkBoomer</td>\n",
              "      <td>[#okboomer]</td>\n",
              "      <td>[]</td>\n",
              "      <td>1005516908181925888</td>\n",
              "      <td>1005516908181925888</td>\n",
              "      <td>DustFar</td>\n",
              "      <td>FarThrustStarDust</td>\n",
              "      <td>1</td>\n",
              "      <td>12</td>\n",
              "      <td>https://twitter.com/DustFar/status/1197612190867476481</td>\n",
              "      <td>False</td>\n",
              "      <td>0</td>\n",
              "      <td>1</td>\n",
              "      <td>0</td>\n",
              "      <td></td>\n",
              "      <td>#okboomer</td>\n",
              "      <td></td>\n",
              "      <td></td>\n",
              "      <td></td>\n",
              "      <td></td>\n",
              "      <td></td>\n",
              "      <td></td>\n",
              "      <td>[{'user_id': '1005516908181925888', 'username': 'DustFar'}, {'user_id': '113713991', 'username': 'timstao'}]</td>\n",
              "      <td></td>\n",
              "      <td>en</td>\n",
              "      <td>[#OkBoomer]</td>\n",
              "      <td>[allot, old, white]</td>\n",
              "    </tr>\n",
              "    <tr>\n",
              "      <th>3</th>\n",
              "      <td>1197611782669402112</td>\n",
              "      <td>1197611782669402112</td>\n",
              "      <td>2019-11-21 20:24:34</td>\n",
              "      <td>2019-11-21 20:24:34</td>\n",
              "      <td>UTC</td>\n",
              "      <td></td>\n",
              "      <td>wait is my university’s president gaslighting me? #OkBoomer  pic.twitter.com/M2FNkQvKHo</td>\n",
              "      <td>[#okboomer]</td>\n",
              "      <td>[]</td>\n",
              "      <td>2509106274</td>\n",
              "      <td>2509106274</td>\n",
              "      <td>summerash99</td>\n",
              "      <td>queer, sultry summer</td>\n",
              "      <td>7</td>\n",
              "      <td>9</td>\n",
              "      <td>https://twitter.com/summerash99/status/1197611782669402113</td>\n",
              "      <td>False</td>\n",
              "      <td>1</td>\n",
              "      <td>0</td>\n",
              "      <td>0</td>\n",
              "      <td></td>\n",
              "      <td>#okboomer</td>\n",
              "      <td></td>\n",
              "      <td></td>\n",
              "      <td></td>\n",
              "      <td></td>\n",
              "      <td></td>\n",
              "      <td></td>\n",
              "      <td>[{'user_id': '2509106274', 'username': 'summerash99'}]</td>\n",
              "      <td></td>\n",
              "      <td>en</td>\n",
              "      <td>[#OkBoomer]</td>\n",
              "      <td>[university, president]</td>\n",
              "    </tr>\n",
              "    <tr>\n",
              "      <th>4</th>\n",
              "      <td>1197611614687637504</td>\n",
              "      <td>1197611614687637504</td>\n",
              "      <td>2019-11-21 20:23:54</td>\n",
              "      <td>2019-11-21 20:23:54</td>\n",
              "      <td>UTC</td>\n",
              "      <td></td>\n",
              "      <td>Shut up Conway you whiny, fragile fossil. #okboomer #expirealready</td>\n",
              "      <td>[#okboomer, #expirealready]</td>\n",
              "      <td>[]</td>\n",
              "      <td>2789202068</td>\n",
              "      <td>2789202068</td>\n",
              "      <td>Crayondroids</td>\n",
              "      <td>Crayondroids</td>\n",
              "      <td>6</td>\n",
              "      <td>22</td>\n",
              "      <td>https://twitter.com/Crayondroids/status/1197611614687637504</td>\n",
              "      <td>False</td>\n",
              "      <td>0</td>\n",
              "      <td>0</td>\n",
              "      <td>0</td>\n",
              "      <td></td>\n",
              "      <td>#okboomer</td>\n",
              "      <td></td>\n",
              "      <td></td>\n",
              "      <td></td>\n",
              "      <td></td>\n",
              "      <td></td>\n",
              "      <td></td>\n",
              "      <td>[{'user_id': '2789202068', 'username': 'Crayondroids'}]</td>\n",
              "      <td></td>\n",
              "      <td>en</td>\n",
              "      <td>[#okboomer, #expirealready]</td>\n",
              "      <td>[conway, fragile, fossil]</td>\n",
              "    </tr>\n",
              "  </tbody>\n",
              "</table>\n",
              "</div>"
            ],
            "text/plain": [
              "                    id  ...                  tokenized\n",
              "0  1197612747715837952  ...  [suddenly]               \n",
              "1  1197612550403297280  ...  [role, 🤷, ️]             \n",
              "2  1197612190867476480  ...  [allot, old, white]      \n",
              "3  1197611782669402112  ...  [university, president]  \n",
              "4  1197611614687637504  ...  [conway, fragile, fossil]\n",
              "\n",
              "[5 rows x 33 columns]"
            ]
          },
          "metadata": {
            "tags": []
          },
          "execution_count": 288
        }
      ]
    },
    {
      "cell_type": "code",
      "metadata": {
        "id": "l9M9tUXdEm6d",
        "colab_type": "code",
        "colab": {}
      },
      "source": [
        "!pip install -qq -U gensim"
      ],
      "execution_count": 0,
      "outputs": []
    },
    {
      "cell_type": "code",
      "metadata": {
        "id": "1X6pbAniIC19",
        "colab_type": "code",
        "colab": {}
      },
      "source": [
        "from gensim.corpora.dictionary import Dictionary"
      ],
      "execution_count": 0,
      "outputs": []
    },
    {
      "cell_type": "code",
      "metadata": {
        "id": "ckpJOZeIIE3f",
        "colab_type": "code",
        "colab": {}
      },
      "source": [
        "dictionary = Dictionary(tweets_boomer['tokenized'])"
      ],
      "execution_count": 0,
      "outputs": []
    },
    {
      "cell_type": "code",
      "metadata": {
        "id": "xDsnlNgaEpme",
        "colab_type": "code",
        "colab": {}
      },
      "source": [
        "#dictionary.filter_extremes(no_below=2, no_above=0.2, keep_n=1000)"
      ],
      "execution_count": 0,
      "outputs": []
    },
    {
      "cell_type": "code",
      "metadata": {
        "id": "lGcZrj3FEvTK",
        "colab_type": "code",
        "colab": {}
      },
      "source": [
        "corpus = [dictionary.doc2bow(doc) for doc in tweets_boomer['tokenized']]"
      ],
      "execution_count": 0,
      "outputs": []
    },
    {
      "cell_type": "code",
      "metadata": {
        "id": "c5cfwuQuLKiD",
        "colab_type": "code",
        "colab": {}
      },
      "source": [
        "from gensim.models import LdaMulticore"
      ],
      "execution_count": 0,
      "outputs": []
    },
    {
      "cell_type": "code",
      "metadata": {
        "id": "msR_wDAkLPy5",
        "colab_type": "code",
        "colab": {}
      },
      "source": [
        "lda_model = LdaMulticore(corpus, id2word=dictionary,  num_topics=10, workers = 4, passes=10)"
      ],
      "execution_count": 0,
      "outputs": []
    },
    {
      "cell_type": "code",
      "metadata": {
        "id": "lsN5k_smLWeA",
        "colab_type": "code",
        "colab": {
          "base_uri": "https://localhost:8080/",
          "height": 377
        },
        "outputId": "35b9cda4-938f-4f34-aa3a-54360658faab"
      },
      "source": [
        "lda_model.print_topics(-1)"
      ],
      "execution_count": 304,
      "outputs": [
        {
          "output_type": "execute_result",
          "data": {
            "text/plain": [
              "[(0,\n",
              "  '0.025*\"boomer\" + 0.009*\"new\" + 0.008*\"t\" + 0.008*\"time\" + 0.007*\"old\" + 0.007*\"good\" + 0.007*\"week\" + 0.007*\"music\" + 0.006*\"millennial\" + 0.006*\"meme\"'),\n",
              " (1,\n",
              "  '0.138*\"boomer\" + 0.030*\"ok\" + 0.022*\"way\" + 0.012*\"t\" + 0.011*\"millennial\" + 0.010*\"thing\" + 0.009*\"right\" + 0.009*\"time\" + 0.008*\"“\" + 0.008*\"millenial\"'),\n",
              " (2,\n",
              "  '0.022*\"old\" + 0.018*\"meme\" + 0.016*\"people\" + 0.011*\"boomer\" + 0.010*\"workplace\" + 0.009*\"vs\" + 0.009*\"nightmare\" + 0.007*\"president\" + 0.006*\"generation\" + 0.006*\"age\"'),\n",
              " (3,\n",
              "  '0.022*\"boomer\" + 0.010*\"old\" + 0.010*\"…\" + 0.010*\"t\" + 0.009*\"sure\" + 0.009*\"year\" + 0.008*\"tweet\" + 0.007*\"way\" + 0.006*\"new\" + 0.006*\"perfect\"'),\n",
              " (4,\n",
              "  '0.043*\"generation\" + 0.030*\"boomer\" + 0.020*\"gen\" + 0.014*\"x\" + 0.014*\"thing\" + 0.011*\"old\" + 0.011*\"people\" + 0.010*\"shit\" + 0.009*\"actually\" + 0.008*\"young\"'),\n",
              " (5,\n",
              "  '0.029*\"boomer\" + 0.020*\"people\" + 0.013*\"old\" + 0.011*\"good\" + 0.011*\"change\" + 0.010*\"generation\" + 0.010*\"climate\" + 0.008*\"t\" + 0.007*\"white\" + 0.007*\"age\"'),\n",
              " (6,\n",
              "  '0.034*\"t\" + 0.021*\"boomer\" + 0.018*\"time\" + 0.016*\"people\" + 0.014*\"word\" + 0.014*\"️\" + 0.012*\"pink\" + 0.008*\"day\" + 0.007*\"“\" + 0.007*\"point\"'),\n",
              " (7,\n",
              "  '0.020*\"people\" + 0.015*\"young\" + 0.014*\"boomer\" + 0.013*\"millennial\" + 0.012*\"new\" + 0.011*\"generation\" + 0.010*\"old\" + 0.008*\"drug\" + 0.008*\"time\" + 0.008*\"“\"'),\n",
              " (8,\n",
              "  '0.022*\"boomer\" + 0.015*\"kid\" + 0.011*\"meme\" + 0.010*\"boomers\" + 0.010*\"hard\" + 0.008*\"millennial\" + 0.008*\"biden\" + 0.007*\"maybe\" + 0.006*\"people\" + 0.006*\"way\"'),\n",
              " (9,\n",
              "  '0.015*\"🤣\" + 0.015*\"old\" + 0.013*\"year\" + 0.012*\"boomer\" + 0.009*\"“\" + 0.009*\"meme\" + 0.009*\"day\" + 0.009*\"t\" + 0.008*\"millennial\" + 0.007*\"time\"')]"
            ]
          },
          "metadata": {
            "tags": []
          },
          "execution_count": 304
        }
      ]
    },
    {
      "cell_type": "code",
      "metadata": {
        "id": "LBw_2RIuMvCp",
        "colab_type": "code",
        "colab": {
          "base_uri": "https://localhost:8080/",
          "height": 51
        },
        "outputId": "a41ed36c-7f1d-4516-d61d-c17f8e3f021f"
      },
      "source": [
        "!pip install -qq pyLDAvis"
      ],
      "execution_count": 306,
      "outputs": [
        {
          "output_type": "stream",
          "text": [
            "\u001b[?25l\r\u001b[K     |▏                               | 10kB 16.5MB/s eta 0:00:01\r\u001b[K     |▍                               | 20kB 7.4MB/s eta 0:00:01\r\u001b[K     |▋                               | 30kB 10.1MB/s eta 0:00:01\r\u001b[K     |▉                               | 40kB 6.2MB/s eta 0:00:01\r\u001b[K     |█                               | 51kB 7.4MB/s eta 0:00:01\r\u001b[K     |█▏                              | 61kB 8.7MB/s eta 0:00:01\r\u001b[K     |█▍                              | 71kB 9.0MB/s eta 0:00:01\r\u001b[K     |█▋                              | 81kB 10.0MB/s eta 0:00:01\r\u001b[K     |█▉                              | 92kB 11.1MB/s eta 0:00:01\r\u001b[K     |██                              | 102kB 9.7MB/s eta 0:00:01\r\u001b[K     |██▎                             | 112kB 9.7MB/s eta 0:00:01\r\u001b[K     |██▍                             | 122kB 9.7MB/s eta 0:00:01\r\u001b[K     |██▋                             | 133kB 9.7MB/s eta 0:00:01\r\u001b[K     |██▉                             | 143kB 9.7MB/s eta 0:00:01\r\u001b[K     |███                             | 153kB 9.7MB/s eta 0:00:01\r\u001b[K     |███▎                            | 163kB 9.7MB/s eta 0:00:01\r\u001b[K     |███▌                            | 174kB 9.7MB/s eta 0:00:01\r\u001b[K     |███▋                            | 184kB 9.7MB/s eta 0:00:01\r\u001b[K     |███▉                            | 194kB 9.7MB/s eta 0:00:01\r\u001b[K     |████                            | 204kB 9.7MB/s eta 0:00:01\r\u001b[K     |████▎                           | 215kB 9.7MB/s eta 0:00:01\r\u001b[K     |████▌                           | 225kB 9.7MB/s eta 0:00:01\r\u001b[K     |████▊                           | 235kB 9.7MB/s eta 0:00:01\r\u001b[K     |████▉                           | 245kB 9.7MB/s eta 0:00:01\r\u001b[K     |█████                           | 256kB 9.7MB/s eta 0:00:01\r\u001b[K     |█████▎                          | 266kB 9.7MB/s eta 0:00:01\r\u001b[K     |█████▌                          | 276kB 9.7MB/s eta 0:00:01\r\u001b[K     |█████▊                          | 286kB 9.7MB/s eta 0:00:01\r\u001b[K     |█████▉                          | 296kB 9.7MB/s eta 0:00:01\r\u001b[K     |██████                          | 307kB 9.7MB/s eta 0:00:01\r\u001b[K     |██████▎                         | 317kB 9.7MB/s eta 0:00:01\r\u001b[K     |██████▌                         | 327kB 9.7MB/s eta 0:00:01\r\u001b[K     |██████▊                         | 337kB 9.7MB/s eta 0:00:01\r\u001b[K     |███████                         | 348kB 9.7MB/s eta 0:00:01\r\u001b[K     |███████                         | 358kB 9.7MB/s eta 0:00:01\r\u001b[K     |███████▎                        | 368kB 9.7MB/s eta 0:00:01\r\u001b[K     |███████▌                        | 378kB 9.7MB/s eta 0:00:01\r\u001b[K     |███████▊                        | 389kB 9.7MB/s eta 0:00:01\r\u001b[K     |████████                        | 399kB 9.7MB/s eta 0:00:01\r\u001b[K     |████████▏                       | 409kB 9.7MB/s eta 0:00:01\r\u001b[K     |████████▎                       | 419kB 9.7MB/s eta 0:00:01\r\u001b[K     |████████▌                       | 430kB 9.7MB/s eta 0:00:01\r\u001b[K     |████████▊                       | 440kB 9.7MB/s eta 0:00:01\r\u001b[K     |█████████                       | 450kB 9.7MB/s eta 0:00:01\r\u001b[K     |█████████▏                      | 460kB 9.7MB/s eta 0:00:01\r\u001b[K     |█████████▍                      | 471kB 9.7MB/s eta 0:00:01\r\u001b[K     |█████████▌                      | 481kB 9.7MB/s eta 0:00:01\r\u001b[K     |█████████▊                      | 491kB 9.7MB/s eta 0:00:01\r\u001b[K     |██████████                      | 501kB 9.7MB/s eta 0:00:01\r\u001b[K     |██████████▏                     | 512kB 9.7MB/s eta 0:00:01\r\u001b[K     |██████████▍                     | 522kB 9.7MB/s eta 0:00:01\r\u001b[K     |██████████▋                     | 532kB 9.7MB/s eta 0:00:01\r\u001b[K     |██████████▊                     | 542kB 9.7MB/s eta 0:00:01\r\u001b[K     |███████████                     | 552kB 9.7MB/s eta 0:00:01\r\u001b[K     |███████████▏                    | 563kB 9.7MB/s eta 0:00:01\r\u001b[K     |███████████▍                    | 573kB 9.7MB/s eta 0:00:01\r\u001b[K     |███████████▋                    | 583kB 9.7MB/s eta 0:00:01\r\u001b[K     |███████████▊                    | 593kB 9.7MB/s eta 0:00:01\r\u001b[K     |████████████                    | 604kB 9.7MB/s eta 0:00:01\r\u001b[K     |████████████▏                   | 614kB 9.7MB/s eta 0:00:01\r\u001b[K     |████████████▍                   | 624kB 9.7MB/s eta 0:00:01\r\u001b[K     |████████████▋                   | 634kB 9.7MB/s eta 0:00:01\r\u001b[K     |████████████▉                   | 645kB 9.7MB/s eta 0:00:01\r\u001b[K     |█████████████                   | 655kB 9.7MB/s eta 0:00:01\r\u001b[K     |█████████████▏                  | 665kB 9.7MB/s eta 0:00:01\r\u001b[K     |█████████████▍                  | 675kB 9.7MB/s eta 0:00:01\r\u001b[K     |█████████████▋                  | 686kB 9.7MB/s eta 0:00:01\r\u001b[K     |█████████████▉                  | 696kB 9.7MB/s eta 0:00:01\r\u001b[K     |██████████████                  | 706kB 9.7MB/s eta 0:00:01\r\u001b[K     |██████████████▏                 | 716kB 9.7MB/s eta 0:00:01\r\u001b[K     |██████████████▍                 | 727kB 9.7MB/s eta 0:00:01\r\u001b[K     |██████████████▋                 | 737kB 9.7MB/s eta 0:00:01\r\u001b[K     |██████████████▉                 | 747kB 9.7MB/s eta 0:00:01\r\u001b[K     |███████████████                 | 757kB 9.7MB/s eta 0:00:01\r\u001b[K     |███████████████▎                | 768kB 9.7MB/s eta 0:00:01\r\u001b[K     |███████████████▍                | 778kB 9.7MB/s eta 0:00:01\r\u001b[K     |███████████████▋                | 788kB 9.7MB/s eta 0:00:01\r\u001b[K     |███████████████▉                | 798kB 9.7MB/s eta 0:00:01\r\u001b[K     |████████████████                | 808kB 9.7MB/s eta 0:00:01\r\u001b[K     |████████████████▎               | 819kB 9.7MB/s eta 0:00:01\r\u001b[K     |████████████████▌               | 829kB 9.7MB/s eta 0:00:01\r\u001b[K     |████████████████▋               | 839kB 9.7MB/s eta 0:00:01\r\u001b[K     |████████████████▉               | 849kB 9.7MB/s eta 0:00:01\r\u001b[K     |█████████████████               | 860kB 9.7MB/s eta 0:00:01\r\u001b[K     |█████████████████▎              | 870kB 9.7MB/s eta 0:00:01\r\u001b[K     |█████████████████▌              | 880kB 9.7MB/s eta 0:00:01\r\u001b[K     |█████████████████▋              | 890kB 9.7MB/s eta 0:00:01\r\u001b[K     |█████████████████▉              | 901kB 9.7MB/s eta 0:00:01\r\u001b[K     |██████████████████              | 911kB 9.7MB/s eta 0:00:01\r\u001b[K     |██████████████████▎             | 921kB 9.7MB/s eta 0:00:01\r\u001b[K     |██████████████████▌             | 931kB 9.7MB/s eta 0:00:01\r\u001b[K     |██████████████████▊             | 942kB 9.7MB/s eta 0:00:01\r\u001b[K     |██████████████████▉             | 952kB 9.7MB/s eta 0:00:01\r\u001b[K     |███████████████████             | 962kB 9.7MB/s eta 0:00:01\r\u001b[K     |███████████████████▎            | 972kB 9.7MB/s eta 0:00:01\r\u001b[K     |███████████████████▌            | 983kB 9.7MB/s eta 0:00:01\r\u001b[K     |███████████████████▊            | 993kB 9.7MB/s eta 0:00:01\r\u001b[K     |████████████████████            | 1.0MB 9.7MB/s eta 0:00:01\r\u001b[K     |████████████████████            | 1.0MB 9.7MB/s eta 0:00:01\r\u001b[K     |████████████████████▎           | 1.0MB 9.7MB/s eta 0:00:01\r\u001b[K     |████████████████████▌           | 1.0MB 9.7MB/s eta 0:00:01\r\u001b[K     |████████████████████▊           | 1.0MB 9.7MB/s eta 0:00:01\r\u001b[K     |█████████████████████           | 1.1MB 9.7MB/s eta 0:00:01\r\u001b[K     |█████████████████████▏          | 1.1MB 9.7MB/s eta 0:00:01\r\u001b[K     |█████████████████████▎          | 1.1MB 9.7MB/s eta 0:00:01\r\u001b[K     |█████████████████████▌          | 1.1MB 9.7MB/s eta 0:00:01\r\u001b[K     |█████████████████████▊          | 1.1MB 9.7MB/s eta 0:00:01\r\u001b[K     |██████████████████████          | 1.1MB 9.7MB/s eta 0:00:01\r\u001b[K     |██████████████████████▏         | 1.1MB 9.7MB/s eta 0:00:01\r\u001b[K     |██████████████████████▍         | 1.1MB 9.7MB/s eta 0:00:01\r\u001b[K     |██████████████████████▌         | 1.1MB 9.7MB/s eta 0:00:01\r\u001b[K     |██████████████████████▊         | 1.1MB 9.7MB/s eta 0:00:01\r\u001b[K     |███████████████████████         | 1.2MB 9.7MB/s eta 0:00:01\r\u001b[K     |███████████████████████▏        | 1.2MB 9.7MB/s eta 0:00:01\r\u001b[K     |███████████████████████▍        | 1.2MB 9.7MB/s eta 0:00:01\r\u001b[K     |███████████████████████▌        | 1.2MB 9.7MB/s eta 0:00:01\r\u001b[K     |███████████████████████▊        | 1.2MB 9.7MB/s eta 0:00:01\r\u001b[K     |████████████████████████        | 1.2MB 9.7MB/s eta 0:00:01\r\u001b[K     |████████████████████████▏       | 1.2MB 9.7MB/s eta 0:00:01\r\u001b[K     |████████████████████████▍       | 1.2MB 9.7MB/s eta 0:00:01\r\u001b[K     |████████████████████████▋       | 1.2MB 9.7MB/s eta 0:00:01\r\u001b[K     |████████████████████████▊       | 1.2MB 9.7MB/s eta 0:00:01\r\u001b[K     |█████████████████████████       | 1.3MB 9.7MB/s eta 0:00:01\r\u001b[K     |█████████████████████████▏      | 1.3MB 9.7MB/s eta 0:00:01\r\u001b[K     |█████████████████████████▍      | 1.3MB 9.7MB/s eta 0:00:01\r\u001b[K     |█████████████████████████▋      | 1.3MB 9.7MB/s eta 0:00:01\r\u001b[K     |█████████████████████████▉      | 1.3MB 9.7MB/s eta 0:00:01\r\u001b[K     |██████████████████████████      | 1.3MB 9.7MB/s eta 0:00:01\r\u001b[K     |██████████████████████████▏     | 1.3MB 9.7MB/s eta 0:00:01\r\u001b[K     |██████████████████████████▍     | 1.3MB 9.7MB/s eta 0:00:01\r\u001b[K     |██████████████████████████▋     | 1.3MB 9.7MB/s eta 0:00:01\r\u001b[K     |██████████████████████████▉     | 1.4MB 9.7MB/s eta 0:00:01\r\u001b[K     |███████████████████████████     | 1.4MB 9.7MB/s eta 0:00:01\r\u001b[K     |███████████████████████████▏    | 1.4MB 9.7MB/s eta 0:00:01\r\u001b[K     |███████████████████████████▍    | 1.4MB 9.7MB/s eta 0:00:01\r\u001b[K     |███████████████████████████▋    | 1.4MB 9.7MB/s eta 0:00:01\r\u001b[K     |███████████████████████████▉    | 1.4MB 9.7MB/s eta 0:00:01\r\u001b[K     |████████████████████████████    | 1.4MB 9.7MB/s eta 0:00:01\r\u001b[K     |████████████████████████████▏   | 1.4MB 9.7MB/s eta 0:00:01\r\u001b[K     |████████████████████████████▍   | 1.4MB 9.7MB/s eta 0:00:01\r\u001b[K     |████████████████████████████▋   | 1.4MB 9.7MB/s eta 0:00:01\r\u001b[K     |████████████████████████████▉   | 1.5MB 9.7MB/s eta 0:00:01\r\u001b[K     |█████████████████████████████   | 1.5MB 9.7MB/s eta 0:00:01\r\u001b[K     |█████████████████████████████▎  | 1.5MB 9.7MB/s eta 0:00:01\r\u001b[K     |█████████████████████████████▍  | 1.5MB 9.7MB/s eta 0:00:01\r\u001b[K     |█████████████████████████████▋  | 1.5MB 9.7MB/s eta 0:00:01\r\u001b[K     |█████████████████████████████▉  | 1.5MB 9.7MB/s eta 0:00:01\r\u001b[K     |██████████████████████████████  | 1.5MB 9.7MB/s eta 0:00:01\r\u001b[K     |██████████████████████████████▎ | 1.5MB 9.7MB/s eta 0:00:01\r\u001b[K     |██████████████████████████████▌ | 1.5MB 9.7MB/s eta 0:00:01\r\u001b[K     |██████████████████████████████▋ | 1.5MB 9.7MB/s eta 0:00:01\r\u001b[K     |██████████████████████████████▉ | 1.6MB 9.7MB/s eta 0:00:01\r\u001b[K     |███████████████████████████████ | 1.6MB 9.7MB/s eta 0:00:01\r\u001b[K     |███████████████████████████████▎| 1.6MB 9.7MB/s eta 0:00:01\r\u001b[K     |███████████████████████████████▌| 1.6MB 9.7MB/s eta 0:00:01\r\u001b[K     |███████████████████████████████▊| 1.6MB 9.7MB/s eta 0:00:01\r\u001b[K     |███████████████████████████████▉| 1.6MB 9.7MB/s eta 0:00:01\r\u001b[K     |████████████████████████████████| 1.6MB 9.7MB/s \n",
            "\u001b[?25h  Building wheel for pyLDAvis (setup.py) ... \u001b[?25l\u001b[?25hdone\n"
          ],
          "name": "stdout"
        }
      ]
    },
    {
      "cell_type": "code",
      "metadata": {
        "id": "ScAYgJzmM2Ej",
        "colab_type": "code",
        "colab": {}
      },
      "source": [
        "import pyLDAvis.gensim\n",
        "%matplotlib inline\n",
        "pyLDAvis.enable_notebook()"
      ],
      "execution_count": 0,
      "outputs": []
    },
    {
      "cell_type": "code",
      "metadata": {
        "id": "PJ-tGEsALav-",
        "colab_type": "code",
        "colab": {
          "base_uri": "https://localhost:8080/",
          "height": 307
        },
        "outputId": "fa3fb223-45ee-497a-97a8-e43b31ceb693"
      },
      "source": [
        "lda_display = pyLDAvis.gensim.prepare(lda_model, corpus, dictionary, sort_topics=False)"
      ],
      "execution_count": 310,
      "outputs": [
        {
          "output_type": "error",
          "ename": "KeyboardInterrupt",
          "evalue": "ignored",
          "traceback": [
            "\u001b[0;31m---------------------------------------------------------------------------\u001b[0m",
            "\u001b[0;31mKeyboardInterrupt\u001b[0m                         Traceback (most recent call last)",
            "\u001b[0;32m<ipython-input-310-64d985533b85>\u001b[0m in \u001b[0;36m<module>\u001b[0;34m()\u001b[0m\n\u001b[0;32m----> 1\u001b[0;31m \u001b[0mlda_display\u001b[0m \u001b[0;34m=\u001b[0m \u001b[0mpyLDAvis\u001b[0m\u001b[0;34m.\u001b[0m\u001b[0mgensim\u001b[0m\u001b[0;34m.\u001b[0m\u001b[0mprepare\u001b[0m\u001b[0;34m(\u001b[0m\u001b[0mlda_model\u001b[0m\u001b[0;34m,\u001b[0m \u001b[0mcorpus\u001b[0m\u001b[0;34m,\u001b[0m \u001b[0mdictionary\u001b[0m\u001b[0;34m,\u001b[0m \u001b[0msort_topics\u001b[0m\u001b[0;34m=\u001b[0m\u001b[0;32mFalse\u001b[0m\u001b[0;34m)\u001b[0m\u001b[0;34m\u001b[0m\u001b[0;34m\u001b[0m\u001b[0m\n\u001b[0m",
            "\u001b[0;32m/usr/local/lib/python3.6/dist-packages/pyLDAvis/gensim.py\u001b[0m in \u001b[0;36mprepare\u001b[0;34m(topic_model, corpus, dictionary, doc_topic_dist, **kwargs)\u001b[0m\n\u001b[1;32m    117\u001b[0m     \"\"\"\n\u001b[1;32m    118\u001b[0m     \u001b[0mopts\u001b[0m \u001b[0;34m=\u001b[0m \u001b[0mfp\u001b[0m\u001b[0;34m.\u001b[0m\u001b[0mmerge\u001b[0m\u001b[0;34m(\u001b[0m\u001b[0m_extract_data\u001b[0m\u001b[0;34m(\u001b[0m\u001b[0mtopic_model\u001b[0m\u001b[0;34m,\u001b[0m \u001b[0mcorpus\u001b[0m\u001b[0;34m,\u001b[0m \u001b[0mdictionary\u001b[0m\u001b[0;34m,\u001b[0m \u001b[0mdoc_topic_dist\u001b[0m\u001b[0;34m)\u001b[0m\u001b[0;34m,\u001b[0m \u001b[0mkwargs\u001b[0m\u001b[0;34m)\u001b[0m\u001b[0;34m\u001b[0m\u001b[0;34m\u001b[0m\u001b[0m\n\u001b[0;32m--> 119\u001b[0;31m     \u001b[0;32mreturn\u001b[0m \u001b[0mvis_prepare\u001b[0m\u001b[0;34m(\u001b[0m\u001b[0;34m**\u001b[0m\u001b[0mopts\u001b[0m\u001b[0;34m)\u001b[0m\u001b[0;34m\u001b[0m\u001b[0;34m\u001b[0m\u001b[0m\n\u001b[0m",
            "\u001b[0;32m/usr/local/lib/python3.6/dist-packages/pyLDAvis/_prepare.py\u001b[0m in \u001b[0;36mprepare\u001b[0;34m(topic_term_dists, doc_topic_dists, doc_lengths, vocab, term_frequency, R, lambda_step, mds, n_jobs, plot_opts, sort_topics)\u001b[0m\n\u001b[1;32m    396\u001b[0m    \u001b[0mterm_frequency\u001b[0m \u001b[0;34m=\u001b[0m \u001b[0mnp\u001b[0m\u001b[0;34m.\u001b[0m\u001b[0msum\u001b[0m\u001b[0;34m(\u001b[0m\u001b[0mterm_topic_freq\u001b[0m\u001b[0;34m,\u001b[0m \u001b[0maxis\u001b[0m\u001b[0;34m=\u001b[0m\u001b[0;36m0\u001b[0m\u001b[0;34m)\u001b[0m\u001b[0;34m\u001b[0m\u001b[0;34m\u001b[0m\u001b[0m\n\u001b[1;32m    397\u001b[0m \u001b[0;34m\u001b[0m\u001b[0m\n\u001b[0;32m--> 398\u001b[0;31m    \u001b[0mtopic_info\u001b[0m         \u001b[0;34m=\u001b[0m \u001b[0m_topic_info\u001b[0m\u001b[0;34m(\u001b[0m\u001b[0mtopic_term_dists\u001b[0m\u001b[0;34m,\u001b[0m \u001b[0mtopic_proportion\u001b[0m\u001b[0;34m,\u001b[0m \u001b[0mterm_frequency\u001b[0m\u001b[0;34m,\u001b[0m \u001b[0mterm_topic_freq\u001b[0m\u001b[0;34m,\u001b[0m \u001b[0mvocab\u001b[0m\u001b[0;34m,\u001b[0m \u001b[0mlambda_step\u001b[0m\u001b[0;34m,\u001b[0m \u001b[0mR\u001b[0m\u001b[0;34m,\u001b[0m \u001b[0mn_jobs\u001b[0m\u001b[0;34m)\u001b[0m\u001b[0;34m\u001b[0m\u001b[0;34m\u001b[0m\u001b[0m\n\u001b[0m\u001b[1;32m    399\u001b[0m    \u001b[0mtoken_table\u001b[0m        \u001b[0;34m=\u001b[0m \u001b[0m_token_table\u001b[0m\u001b[0;34m(\u001b[0m\u001b[0mtopic_info\u001b[0m\u001b[0;34m,\u001b[0m \u001b[0mterm_topic_freq\u001b[0m\u001b[0;34m,\u001b[0m \u001b[0mvocab\u001b[0m\u001b[0;34m,\u001b[0m \u001b[0mterm_frequency\u001b[0m\u001b[0;34m)\u001b[0m\u001b[0;34m\u001b[0m\u001b[0;34m\u001b[0m\u001b[0m\n\u001b[1;32m    400\u001b[0m    \u001b[0mtopic_coordinates\u001b[0m \u001b[0;34m=\u001b[0m \u001b[0m_topic_coordinates\u001b[0m\u001b[0;34m(\u001b[0m\u001b[0mmds\u001b[0m\u001b[0;34m,\u001b[0m \u001b[0mtopic_term_dists\u001b[0m\u001b[0;34m,\u001b[0m \u001b[0mtopic_proportion\u001b[0m\u001b[0;34m)\u001b[0m\u001b[0;34m\u001b[0m\u001b[0;34m\u001b[0m\u001b[0m\n",
            "\u001b[0;32m/usr/local/lib/python3.6/dist-packages/pyLDAvis/_prepare.py\u001b[0m in \u001b[0;36m_topic_info\u001b[0;34m(topic_term_dists, topic_proportion, term_frequency, term_topic_freq, vocab, lambda_step, R, n_jobs)\u001b[0m\n\u001b[1;32m    253\u001b[0m \u001b[0;34m\u001b[0m\u001b[0m\n\u001b[1;32m    254\u001b[0m    top_terms = pd.concat(Parallel(n_jobs=n_jobs)(delayed(_find_relevance_chunks)(log_ttd, log_lift, R, ls) \\\n\u001b[0;32m--> 255\u001b[0;31m                                                  for ls in _job_chunks(lambda_seq, n_jobs)))\n\u001b[0m\u001b[1;32m    256\u001b[0m    \u001b[0mtopic_dfs\u001b[0m \u001b[0;34m=\u001b[0m \u001b[0mmap\u001b[0m\u001b[0;34m(\u001b[0m\u001b[0mtopic_top_term_df\u001b[0m\u001b[0;34m,\u001b[0m \u001b[0menumerate\u001b[0m\u001b[0;34m(\u001b[0m\u001b[0mtop_terms\u001b[0m\u001b[0;34m.\u001b[0m\u001b[0mT\u001b[0m\u001b[0;34m.\u001b[0m\u001b[0miterrows\u001b[0m\u001b[0;34m(\u001b[0m\u001b[0;34m)\u001b[0m\u001b[0;34m,\u001b[0m \u001b[0;36m1\u001b[0m\u001b[0;34m)\u001b[0m\u001b[0;34m)\u001b[0m\u001b[0;34m\u001b[0m\u001b[0;34m\u001b[0m\u001b[0m\n\u001b[1;32m    257\u001b[0m    \u001b[0;32mreturn\u001b[0m \u001b[0mpd\u001b[0m\u001b[0;34m.\u001b[0m\u001b[0mconcat\u001b[0m\u001b[0;34m(\u001b[0m\u001b[0;34m[\u001b[0m\u001b[0mdefault_term_info\u001b[0m\u001b[0;34m]\u001b[0m \u001b[0;34m+\u001b[0m \u001b[0mlist\u001b[0m\u001b[0;34m(\u001b[0m\u001b[0mtopic_dfs\u001b[0m\u001b[0;34m)\u001b[0m\u001b[0;34m)\u001b[0m\u001b[0;34m\u001b[0m\u001b[0;34m\u001b[0m\u001b[0m\n",
            "\u001b[0;32m/usr/local/lib/python3.6/dist-packages/joblib/parallel.py\u001b[0m in \u001b[0;36m__call__\u001b[0;34m(self, iterable)\u001b[0m\n\u001b[1;32m   1014\u001b[0m \u001b[0;34m\u001b[0m\u001b[0m\n\u001b[1;32m   1015\u001b[0m             \u001b[0;32mwith\u001b[0m \u001b[0mself\u001b[0m\u001b[0;34m.\u001b[0m\u001b[0m_backend\u001b[0m\u001b[0;34m.\u001b[0m\u001b[0mretrieval_context\u001b[0m\u001b[0;34m(\u001b[0m\u001b[0;34m)\u001b[0m\u001b[0;34m:\u001b[0m\u001b[0;34m\u001b[0m\u001b[0;34m\u001b[0m\u001b[0m\n\u001b[0;32m-> 1016\u001b[0;31m                 \u001b[0mself\u001b[0m\u001b[0;34m.\u001b[0m\u001b[0mretrieve\u001b[0m\u001b[0;34m(\u001b[0m\u001b[0;34m)\u001b[0m\u001b[0;34m\u001b[0m\u001b[0;34m\u001b[0m\u001b[0m\n\u001b[0m\u001b[1;32m   1017\u001b[0m             \u001b[0;31m# Make sure that we get a last message telling us we are done\u001b[0m\u001b[0;34m\u001b[0m\u001b[0;34m\u001b[0m\u001b[0;34m\u001b[0m\u001b[0m\n\u001b[1;32m   1018\u001b[0m             \u001b[0melapsed_time\u001b[0m \u001b[0;34m=\u001b[0m \u001b[0mtime\u001b[0m\u001b[0;34m.\u001b[0m\u001b[0mtime\u001b[0m\u001b[0;34m(\u001b[0m\u001b[0;34m)\u001b[0m \u001b[0;34m-\u001b[0m \u001b[0mself\u001b[0m\u001b[0;34m.\u001b[0m\u001b[0m_start_time\u001b[0m\u001b[0;34m\u001b[0m\u001b[0;34m\u001b[0m\u001b[0m\n",
            "\u001b[0;32m/usr/local/lib/python3.6/dist-packages/joblib/parallel.py\u001b[0m in \u001b[0;36mretrieve\u001b[0;34m(self)\u001b[0m\n\u001b[1;32m    906\u001b[0m             \u001b[0;32mtry\u001b[0m\u001b[0;34m:\u001b[0m\u001b[0;34m\u001b[0m\u001b[0;34m\u001b[0m\u001b[0m\n\u001b[1;32m    907\u001b[0m                 \u001b[0;32mif\u001b[0m \u001b[0mgetattr\u001b[0m\u001b[0;34m(\u001b[0m\u001b[0mself\u001b[0m\u001b[0;34m.\u001b[0m\u001b[0m_backend\u001b[0m\u001b[0;34m,\u001b[0m \u001b[0;34m'supports_timeout'\u001b[0m\u001b[0;34m,\u001b[0m \u001b[0;32mFalse\u001b[0m\u001b[0;34m)\u001b[0m\u001b[0;34m:\u001b[0m\u001b[0;34m\u001b[0m\u001b[0;34m\u001b[0m\u001b[0m\n\u001b[0;32m--> 908\u001b[0;31m                     \u001b[0mself\u001b[0m\u001b[0;34m.\u001b[0m\u001b[0m_output\u001b[0m\u001b[0;34m.\u001b[0m\u001b[0mextend\u001b[0m\u001b[0;34m(\u001b[0m\u001b[0mjob\u001b[0m\u001b[0;34m.\u001b[0m\u001b[0mget\u001b[0m\u001b[0;34m(\u001b[0m\u001b[0mtimeout\u001b[0m\u001b[0;34m=\u001b[0m\u001b[0mself\u001b[0m\u001b[0;34m.\u001b[0m\u001b[0mtimeout\u001b[0m\u001b[0;34m)\u001b[0m\u001b[0;34m)\u001b[0m\u001b[0;34m\u001b[0m\u001b[0;34m\u001b[0m\u001b[0m\n\u001b[0m\u001b[1;32m    909\u001b[0m                 \u001b[0;32melse\u001b[0m\u001b[0;34m:\u001b[0m\u001b[0;34m\u001b[0m\u001b[0;34m\u001b[0m\u001b[0m\n\u001b[1;32m    910\u001b[0m                     \u001b[0mself\u001b[0m\u001b[0;34m.\u001b[0m\u001b[0m_output\u001b[0m\u001b[0;34m.\u001b[0m\u001b[0mextend\u001b[0m\u001b[0;34m(\u001b[0m\u001b[0mjob\u001b[0m\u001b[0;34m.\u001b[0m\u001b[0mget\u001b[0m\u001b[0;34m(\u001b[0m\u001b[0;34m)\u001b[0m\u001b[0;34m)\u001b[0m\u001b[0;34m\u001b[0m\u001b[0;34m\u001b[0m\u001b[0m\n",
            "\u001b[0;32m/usr/local/lib/python3.6/dist-packages/joblib/_parallel_backends.py\u001b[0m in \u001b[0;36mwrap_future_result\u001b[0;34m(future, timeout)\u001b[0m\n\u001b[1;32m    552\u001b[0m         AsyncResults.get from multiprocessing.\"\"\"\n\u001b[1;32m    553\u001b[0m         \u001b[0;32mtry\u001b[0m\u001b[0;34m:\u001b[0m\u001b[0;34m\u001b[0m\u001b[0;34m\u001b[0m\u001b[0m\n\u001b[0;32m--> 554\u001b[0;31m             \u001b[0;32mreturn\u001b[0m \u001b[0mfuture\u001b[0m\u001b[0;34m.\u001b[0m\u001b[0mresult\u001b[0m\u001b[0;34m(\u001b[0m\u001b[0mtimeout\u001b[0m\u001b[0;34m=\u001b[0m\u001b[0mtimeout\u001b[0m\u001b[0;34m)\u001b[0m\u001b[0;34m\u001b[0m\u001b[0;34m\u001b[0m\u001b[0m\n\u001b[0m\u001b[1;32m    555\u001b[0m         \u001b[0;32mexcept\u001b[0m \u001b[0mLokyTimeoutError\u001b[0m\u001b[0;34m:\u001b[0m\u001b[0;34m\u001b[0m\u001b[0;34m\u001b[0m\u001b[0m\n\u001b[1;32m    556\u001b[0m             \u001b[0;32mraise\u001b[0m \u001b[0mTimeoutError\u001b[0m\u001b[0;34m(\u001b[0m\u001b[0;34m)\u001b[0m\u001b[0;34m\u001b[0m\u001b[0;34m\u001b[0m\u001b[0m\n",
            "\u001b[0;32m/usr/lib/python3.6/concurrent/futures/_base.py\u001b[0m in \u001b[0;36mresult\u001b[0;34m(self, timeout)\u001b[0m\n\u001b[1;32m    425\u001b[0m                 \u001b[0;32mreturn\u001b[0m \u001b[0mself\u001b[0m\u001b[0;34m.\u001b[0m\u001b[0m__get_result\u001b[0m\u001b[0;34m(\u001b[0m\u001b[0;34m)\u001b[0m\u001b[0;34m\u001b[0m\u001b[0;34m\u001b[0m\u001b[0m\n\u001b[1;32m    426\u001b[0m \u001b[0;34m\u001b[0m\u001b[0m\n\u001b[0;32m--> 427\u001b[0;31m             \u001b[0mself\u001b[0m\u001b[0;34m.\u001b[0m\u001b[0m_condition\u001b[0m\u001b[0;34m.\u001b[0m\u001b[0mwait\u001b[0m\u001b[0;34m(\u001b[0m\u001b[0mtimeout\u001b[0m\u001b[0;34m)\u001b[0m\u001b[0;34m\u001b[0m\u001b[0;34m\u001b[0m\u001b[0m\n\u001b[0m\u001b[1;32m    428\u001b[0m \u001b[0;34m\u001b[0m\u001b[0m\n\u001b[1;32m    429\u001b[0m             \u001b[0;32mif\u001b[0m \u001b[0mself\u001b[0m\u001b[0;34m.\u001b[0m\u001b[0m_state\u001b[0m \u001b[0;32min\u001b[0m \u001b[0;34m[\u001b[0m\u001b[0mCANCELLED\u001b[0m\u001b[0;34m,\u001b[0m \u001b[0mCANCELLED_AND_NOTIFIED\u001b[0m\u001b[0;34m]\u001b[0m\u001b[0;34m:\u001b[0m\u001b[0;34m\u001b[0m\u001b[0;34m\u001b[0m\u001b[0m\n",
            "\u001b[0;32m/usr/lib/python3.6/threading.py\u001b[0m in \u001b[0;36mwait\u001b[0;34m(self, timeout)\u001b[0m\n\u001b[1;32m    293\u001b[0m         \u001b[0;32mtry\u001b[0m\u001b[0;34m:\u001b[0m    \u001b[0;31m# restore state no matter what (e.g., KeyboardInterrupt)\u001b[0m\u001b[0;34m\u001b[0m\u001b[0;34m\u001b[0m\u001b[0m\n\u001b[1;32m    294\u001b[0m             \u001b[0;32mif\u001b[0m \u001b[0mtimeout\u001b[0m \u001b[0;32mis\u001b[0m \u001b[0;32mNone\u001b[0m\u001b[0;34m:\u001b[0m\u001b[0;34m\u001b[0m\u001b[0;34m\u001b[0m\u001b[0m\n\u001b[0;32m--> 295\u001b[0;31m                 \u001b[0mwaiter\u001b[0m\u001b[0;34m.\u001b[0m\u001b[0macquire\u001b[0m\u001b[0;34m(\u001b[0m\u001b[0;34m)\u001b[0m\u001b[0;34m\u001b[0m\u001b[0;34m\u001b[0m\u001b[0m\n\u001b[0m\u001b[1;32m    296\u001b[0m                 \u001b[0mgotit\u001b[0m \u001b[0;34m=\u001b[0m \u001b[0;32mTrue\u001b[0m\u001b[0;34m\u001b[0m\u001b[0;34m\u001b[0m\u001b[0m\n\u001b[1;32m    297\u001b[0m             \u001b[0;32melse\u001b[0m\u001b[0;34m:\u001b[0m\u001b[0;34m\u001b[0m\u001b[0;34m\u001b[0m\u001b[0m\n",
            "\u001b[0;31mKeyboardInterrupt\u001b[0m: "
          ]
        }
      ]
    },
    {
      "cell_type": "code",
      "metadata": {
        "id": "eaq3sxUeLfBV",
        "colab_type": "code",
        "colab": {}
      },
      "source": [
        "pyLDAvis.display(lda_display)"
      ],
      "execution_count": 0,
      "outputs": []
    },
    {
      "cell_type": "markdown",
      "metadata": {
        "id": "B0ZYcOep4alZ",
        "colab_type": "text"
      },
      "source": [
        "##4\n",
        "\n",
        "The site https://faketrump.ai/ is an interesting example of AI-powered fake-text generation. They write:\n",
        "\n",
        "We built an artificial intelligence model by fine-tuning GPT-2 to generate tweets in the style of Donald Trump’s Twitter account. After seeing the results, we also built a discriminator that can accurately detect fake tweets 77% of the time — think you can beat our classifier? Try it yourself!\n",
        "\n",
        "GPT-2 is a neural transformer-based model, that has been announced by OpenAI in February 2019 and created considerable discussion because they decided - in contrast to their earlier policies - not to release the mode to the public. Their central argument was that the model could be used to produce fake news, spam and alike too easily. The footnote of the faketrump page reads: “Generating realistic fake text has become much more accessible. We hope to highlight the current state of text generation to demonstrate how difficult it is to discern fiction from reality.”\n",
        "\n",
        "Since then several organizations and researchers have shown that it is possible to develop systems to detect “fake text”. We believe that you too can implement a competitive system.\n",
        "\n",
        "This assignment is not about Natural Language Processing (NLP) but about being able to deal with sequential data using deep learning. Some basic knowledge from M2 can be useful to squeeze the last 1% performance but you should be able to get great results with pure Keras. The data can be found here and has the following format:\n",
        "\n",
        "tweet labels string boolean There are 8000 real Trump tweet and 7348 fake ones."
      ]
    },
    {
      "cell_type": "code",
      "metadata": {
        "id": "ReLZayMeT1v_",
        "colab_type": "code",
        "colab": {}
      },
      "source": [
        "import pandas as pd\n",
        "import numpy as np"
      ],
      "execution_count": 0,
      "outputs": []
    },
    {
      "cell_type": "code",
      "metadata": {
        "id": "Kw8Ra8VLtY_1",
        "colab_type": "code",
        "colab": {}
      },
      "source": [
        "data = pd.read_csv('https://raw.githubusercontent.com/DeepLearnI/trump_tweet_classifier/master/code/tweet_labels.csv') "
      ],
      "execution_count": 0,
      "outputs": []
    },
    {
      "cell_type": "code",
      "metadata": {
        "id": "QcbO4N0KuWAP",
        "colab_type": "code",
        "colab": {
          "base_uri": "https://localhost:8080/",
          "height": 204
        },
        "outputId": "43d084f0-6a60-4ea2-f566-100d3ca8ad89"
      },
      "source": [
        "data.head()"
      ],
      "execution_count": 4,
      "outputs": [
        {
          "output_type": "execute_result",
          "data": {
            "text/html": [
              "<div>\n",
              "<style scoped>\n",
              "    .dataframe tbody tr th:only-of-type {\n",
              "        vertical-align: middle;\n",
              "    }\n",
              "\n",
              "    .dataframe tbody tr th {\n",
              "        vertical-align: top;\n",
              "    }\n",
              "\n",
              "    .dataframe thead th {\n",
              "        text-align: right;\n",
              "    }\n",
              "</style>\n",
              "<table border=\"1\" class=\"dataframe\">\n",
              "  <thead>\n",
              "    <tr style=\"text-align: right;\">\n",
              "      <th></th>\n",
              "      <th>tweet</th>\n",
              "      <th>labels</th>\n",
              "    </tr>\n",
              "  </thead>\n",
              "  <tbody>\n",
              "    <tr>\n",
              "      <th>0</th>\n",
              "      <td>To every one of the HEROES we recognized today...</td>\n",
              "      <td>True</td>\n",
              "    </tr>\n",
              "    <tr>\n",
              "      <th>1</th>\n",
              "      <td>We have been serving as policemen in Afghanist...</td>\n",
              "      <td>True</td>\n",
              "    </tr>\n",
              "    <tr>\n",
              "      <th>2</th>\n",
              "      <td>...the Economy, where there is NO Recession, m...</td>\n",
              "      <td>True</td>\n",
              "    </tr>\n",
              "    <tr>\n",
              "      <th>3</th>\n",
              "      <td>...the look of turmoil in the White House, of ...</td>\n",
              "      <td>True</td>\n",
              "    </tr>\n",
              "    <tr>\n",
              "      <th>4</th>\n",
              "      <td>A lot of Fake News is being reported that I ov...</td>\n",
              "      <td>True</td>\n",
              "    </tr>\n",
              "  </tbody>\n",
              "</table>\n",
              "</div>"
            ],
            "text/plain": [
              "                                               tweet  labels\n",
              "0  To every one of the HEROES we recognized today...    True\n",
              "1  We have been serving as policemen in Afghanist...    True\n",
              "2  ...the Economy, where there is NO Recession, m...    True\n",
              "3  ...the look of turmoil in the White House, of ...    True\n",
              "4  A lot of Fake News is being reported that I ov...    True"
            ]
          },
          "metadata": {
            "tags": []
          },
          "execution_count": 4
        }
      ]
    },
    {
      "cell_type": "code",
      "metadata": {
        "id": "EwmAggfXVVZC",
        "colab_type": "code",
        "colab": {}
      },
      "source": [
        "x = data['tweet']"
      ],
      "execution_count": 0,
      "outputs": []
    },
    {
      "cell_type": "code",
      "metadata": {
        "id": "CTzoXRpvmkz8",
        "colab_type": "code",
        "colab": {
          "base_uri": "https://localhost:8080/",
          "height": 119
        },
        "outputId": "f1891b35-add3-4b1d-cf8f-6bf00cb8c925"
      },
      "source": [
        "x.head()"
      ],
      "execution_count": 50,
      "outputs": [
        {
          "output_type": "execute_result",
          "data": {
            "text/plain": [
              "0    To every one of the HEROES we recognized today...\n",
              "1    We have been serving as policemen in Afghanist...\n",
              "2    ...the Economy, where there is NO Recession, m...\n",
              "3    ...the look of turmoil in the White House, of ...\n",
              "4    A lot of Fake News is being reported that I ov...\n",
              "Name: tweet, dtype: object"
            ]
          },
          "metadata": {
            "tags": []
          },
          "execution_count": 50
        }
      ]
    },
    {
      "cell_type": "code",
      "metadata": {
        "id": "rPoc5YhoVnqO",
        "colab_type": "code",
        "colab": {}
      },
      "source": [
        "y = data['labels']"
      ],
      "execution_count": 0,
      "outputs": []
    },
    {
      "cell_type": "code",
      "metadata": {
        "id": "wHQJBcxYm32r",
        "colab_type": "code",
        "colab": {
          "base_uri": "https://localhost:8080/",
          "height": 119
        },
        "outputId": "f281724f-f27c-4846-ff2b-a8e45ce777be"
      },
      "source": [
        "y.head()"
      ],
      "execution_count": 54,
      "outputs": [
        {
          "output_type": "execute_result",
          "data": {
            "text/plain": [
              "0    True\n",
              "1    True\n",
              "2    True\n",
              "3    True\n",
              "4    True\n",
              "Name: labels, dtype: bool"
            ]
          },
          "metadata": {
            "tags": []
          },
          "execution_count": 54
        }
      ]
    },
    {
      "cell_type": "code",
      "metadata": {
        "id": "XwYBl_BYm8Yo",
        "colab_type": "code",
        "colab": {
          "base_uri": "https://localhost:8080/",
          "height": 102
        },
        "outputId": "58c2ef34-a8e4-4cb9-f05e-fc30f1fcf1f0"
      },
      "source": [
        "x.describe()"
      ],
      "execution_count": 56,
      "outputs": [
        {
          "output_type": "execute_result",
          "data": {
            "text/plain": [
              "count                15348\n",
              "unique               15076\n",
              "top       Show this thread\n",
              "freq                    42\n",
              "Name: tweet, dtype: object"
            ]
          },
          "metadata": {
            "tags": []
          },
          "execution_count": 56
        }
      ]
    },
    {
      "cell_type": "code",
      "metadata": {
        "id": "XdlyVmSxVTcf",
        "colab_type": "code",
        "colab": {}
      },
      "source": [
        "from sklearn.model_selection import train_test_split\n",
        "x_train, x_test, y_train, y_test = train_test_split(x, y, test_size = 0.2, random_state = 42)"
      ],
      "execution_count": 0,
      "outputs": []
    },
    {
      "cell_type": "code",
      "metadata": {
        "id": "U3zJ4vRBdNwo",
        "colab_type": "code",
        "colab": {
          "base_uri": "https://localhost:8080/",
          "height": 34
        },
        "outputId": "b0b0b12e-d587-4510-8c98-ec1c44a2fbdc"
      },
      "source": [
        "x_train.shape\n",
        "y_train.shape"
      ],
      "execution_count": 61,
      "outputs": [
        {
          "output_type": "execute_result",
          "data": {
            "text/plain": [
              "(12278,)"
            ]
          },
          "metadata": {
            "tags": []
          },
          "execution_count": 61
        }
      ]
    },
    {
      "cell_type": "code",
      "metadata": {
        "id": "XX1lKkjPdSYw",
        "colab_type": "code",
        "colab": {
          "base_uri": "https://localhost:8080/",
          "height": 85
        },
        "outputId": "6bdab43b-e3a1-409a-e114-4e9374100843"
      },
      "source": [
        "print(f'Train size = {len(x_train)}')\n",
        "print(f'Test size = {len(x_test)}')\n",
        "print(f'Train size = {len(y_train)}')\n",
        "print(f'Test size = {len(y_test)}')"
      ],
      "execution_count": 62,
      "outputs": [
        {
          "output_type": "stream",
          "text": [
            "Train size = 12278\n",
            "Test size = 3070\n",
            "Train size = 12278\n",
            "Test size = 3070\n"
          ],
          "name": "stdout"
        }
      ]
    },
    {
      "cell_type": "code",
      "metadata": {
        "id": "TFA5kI01J3Iz",
        "colab_type": "code",
        "colab": {
          "base_uri": "https://localhost:8080/",
          "height": 85
        },
        "outputId": "652b5147-c053-4f4d-fb6c-a6a3bb088ff1"
      },
      "source": [
        "import nltk\n",
        "nltk.download('punkt')\n",
        "nltk.download('stopwords')\n",
        "from nltk.tokenize import word_tokenize"
      ],
      "execution_count": 63,
      "outputs": [
        {
          "output_type": "stream",
          "text": [
            "[nltk_data] Downloading package punkt to /root/nltk_data...\n",
            "[nltk_data]   Package punkt is already up-to-date!\n",
            "[nltk_data] Downloading package stopwords to /root/nltk_data...\n",
            "[nltk_data]   Package stopwords is already up-to-date!\n"
          ],
          "name": "stdout"
        }
      ]
    },
    {
      "cell_type": "code",
      "metadata": {
        "id": "zk6cQ2-JAgAa",
        "colab_type": "code",
        "colab": {}
      },
      "source": [
        "from gensim.corpora.dictionary import Dictionary"
      ],
      "execution_count": 0,
      "outputs": []
    },
    {
      "cell_type": "code",
      "metadata": {
        "id": "JWwQguhDAiW-",
        "colab_type": "code",
        "colab": {}
      },
      "source": [
        "from gensim.models.tfidfmodel import TfidfModel"
      ],
      "execution_count": 0,
      "outputs": []
    },
    {
      "cell_type": "code",
      "metadata": {
        "id": "4N02v2aAAtjE",
        "colab_type": "code",
        "colab": {}
      },
      "source": [
        "from gensim.models.lsimodel import LsiModel"
      ],
      "execution_count": 0,
      "outputs": []
    },
    {
      "cell_type": "code",
      "metadata": {
        "id": "Ik7Z-Mf0Avdx",
        "colab_type": "code",
        "colab": {}
      },
      "source": [
        "from nltk.corpus import stopwords\n",
        "stop_words = set(stopwords.words('english'))"
      ],
      "execution_count": 0,
      "outputs": []
    },
    {
      "cell_type": "code",
      "metadata": {
        "id": "OytIiL2JB2aH",
        "colab_type": "code",
        "colab": {}
      },
      "source": [
        "train_tokens = x_train.map(lambda t: [tok.lower() for tok in word_tokenize(t) if tok not in stop_words and tok.isalpha()])"
      ],
      "execution_count": 0,
      "outputs": []
    },
    {
      "cell_type": "code",
      "metadata": {
        "id": "o3sZNsJ_O00P",
        "colab_type": "code",
        "colab": {}
      },
      "source": [
        "test_tokens = x_test.map(lambda t: [tok.lower() for tok in word_tokenize(t) if tok not in stop_words and tok.isalpha()])"
      ],
      "execution_count": 0,
      "outputs": []
    },
    {
      "cell_type": "code",
      "metadata": {
        "id": "jMwmxQf_C3u-",
        "colab_type": "code",
        "colab": {}
      },
      "source": [
        "dictionary = Dictionary(train_tokens)"
      ],
      "execution_count": 0,
      "outputs": []
    },
    {
      "cell_type": "code",
      "metadata": {
        "id": "sa1nCVawDIVP",
        "colab_type": "code",
        "colab": {}
      },
      "source": [
        "dictionary.filter_extremes(no_below = 5, no_above=0.6)"
      ],
      "execution_count": 0,
      "outputs": []
    },
    {
      "cell_type": "code",
      "metadata": {
        "id": "p58stShRDR-r",
        "colab_type": "code",
        "colab": {}
      },
      "source": [
        "train_corpus = [dictionary.doc2bow(doc) for doc in train_tokens]\n",
        "test_corpus = [dictionary.doc2bow(doc) for doc in test_tokens]"
      ],
      "execution_count": 0,
      "outputs": []
    },
    {
      "cell_type": "code",
      "metadata": {
        "id": "tgqEmyeaEMAp",
        "colab_type": "code",
        "colab": {}
      },
      "source": [
        "from gensim.matutils import corpus2csc, corpus2dense"
      ],
      "execution_count": 0,
      "outputs": []
    },
    {
      "cell_type": "code",
      "metadata": {
        "id": "xcFvYoPKER-v",
        "colab_type": "code",
        "colab": {}
      },
      "source": [
        "x_train = corpus2csc(train_corpus)\n",
        "x_test = corpus2csc(test_corpus)"
      ],
      "execution_count": 0,
      "outputs": []
    },
    {
      "cell_type": "code",
      "metadata": {
        "id": "5fDYoXfQrNgE",
        "colab_type": "code",
        "colab": {
          "base_uri": "https://localhost:8080/",
          "height": 34
        },
        "outputId": "05400dae-e56a-41fc-99c1-2ca4bd72dcc7"
      },
      "source": [
        "x_train.shape"
      ],
      "execution_count": 157,
      "outputs": [
        {
          "output_type": "execute_result",
          "data": {
            "text/plain": [
              "(2694, 12278)"
            ]
          },
          "metadata": {
            "tags": []
          },
          "execution_count": 157
        }
      ]
    },
    {
      "cell_type": "code",
      "metadata": {
        "id": "88XyEL_Ot15q",
        "colab_type": "code",
        "colab": {}
      },
      "source": [
        "x_train = x_train.transpose()"
      ],
      "execution_count": 0,
      "outputs": []
    },
    {
      "cell_type": "code",
      "metadata": {
        "id": "y43Mwxdkt6lc",
        "colab_type": "code",
        "colab": {
          "base_uri": "https://localhost:8080/",
          "height": 34
        },
        "outputId": "73def44a-2da1-4138-d5ed-d974fb08d2e4"
      },
      "source": [
        "x_train.shape"
      ],
      "execution_count": 159,
      "outputs": [
        {
          "output_type": "execute_result",
          "data": {
            "text/plain": [
              "(12278, 2694)"
            ]
          },
          "metadata": {
            "tags": []
          },
          "execution_count": 159
        }
      ]
    },
    {
      "cell_type": "code",
      "metadata": {
        "id": "cNnxcqZLreqF",
        "colab_type": "code",
        "colab": {
          "base_uri": "https://localhost:8080/",
          "height": 34
        },
        "outputId": "52b1c4ce-4749-48f5-845c-70c7ea52b844"
      },
      "source": [
        "y_train.shape"
      ],
      "execution_count": 160,
      "outputs": [
        {
          "output_type": "execute_result",
          "data": {
            "text/plain": [
              "(12278,)"
            ]
          },
          "metadata": {
            "tags": []
          },
          "execution_count": 160
        }
      ]
    },
    {
      "cell_type": "code",
      "metadata": {
        "id": "zyX0XkbDrhkZ",
        "colab_type": "code",
        "colab": {
          "base_uri": "https://localhost:8080/",
          "height": 34
        },
        "outputId": "56041e71-0bc9-4897-a082-2cfce46cfad4"
      },
      "source": [
        "x_test.shape"
      ],
      "execution_count": 161,
      "outputs": [
        {
          "output_type": "execute_result",
          "data": {
            "text/plain": [
              "(2694, 3070)"
            ]
          },
          "metadata": {
            "tags": []
          },
          "execution_count": 161
        }
      ]
    },
    {
      "cell_type": "code",
      "metadata": {
        "id": "98r2E7KhuCf_",
        "colab_type": "code",
        "colab": {}
      },
      "source": [
        "x_test = x_test.transpose()"
      ],
      "execution_count": 0,
      "outputs": []
    },
    {
      "cell_type": "code",
      "metadata": {
        "id": "UK12lUL0uG4E",
        "colab_type": "code",
        "colab": {
          "base_uri": "https://localhost:8080/",
          "height": 34
        },
        "outputId": "6d86245d-61f1-4c7e-b43b-483ff9e64f0a"
      },
      "source": [
        "x_test.shape"
      ],
      "execution_count": 163,
      "outputs": [
        {
          "output_type": "execute_result",
          "data": {
            "text/plain": [
              "(3070, 2694)"
            ]
          },
          "metadata": {
            "tags": []
          },
          "execution_count": 163
        }
      ]
    },
    {
      "cell_type": "code",
      "metadata": {
        "id": "zVqxSHFVrjue",
        "colab_type": "code",
        "colab": {
          "base_uri": "https://localhost:8080/",
          "height": 34
        },
        "outputId": "c22db43f-db9a-41d8-f255-2e78055bab8e"
      },
      "source": [
        "y_test.shape"
      ],
      "execution_count": 164,
      "outputs": [
        {
          "output_type": "execute_result",
          "data": {
            "text/plain": [
              "(3070,)"
            ]
          },
          "metadata": {
            "tags": []
          },
          "execution_count": 164
        }
      ]
    },
    {
      "cell_type": "code",
      "metadata": {
        "id": "6X1eN_NZDw6l",
        "colab_type": "code",
        "outputId": "13b7facb-5085-48d7-bdcc-493ab5a6d79c",
        "colab": {
          "base_uri": "https://localhost:8080/",
          "height": 88
        }
      },
      "source": [
        "from sklearn.linear_model import LogisticRegression\n",
        "\n",
        "model = LogisticRegression()\n",
        "\n",
        "model.fit(x_train, y_train)\n",
        "\n",
        "model.score(x_test, y_test)"
      ],
      "execution_count": 165,
      "outputs": [
        {
          "output_type": "stream",
          "text": [
            "/usr/local/lib/python3.6/dist-packages/sklearn/linear_model/logistic.py:432: FutureWarning: Default solver will be changed to 'lbfgs' in 0.22. Specify a solver to silence this warning.\n",
            "  FutureWarning)\n"
          ],
          "name": "stderr"
        },
        {
          "output_type": "execute_result",
          "data": {
            "text/plain": [
              "0.706514657980456"
            ]
          },
          "metadata": {
            "tags": []
          },
          "execution_count": 165
        }
      ]
    },
    {
      "cell_type": "code",
      "metadata": {
        "id": "NYnsJCKvDlG7",
        "colab_type": "code",
        "colab": {}
      },
      "source": [
        "tfidf = TfidfModel(train_corpus)"
      ],
      "execution_count": 0,
      "outputs": []
    },
    {
      "cell_type": "code",
      "metadata": {
        "id": "Vs9f0V5hDvlG",
        "colab_type": "code",
        "colab": {}
      },
      "source": [
        "train_corpus_tfidf = tfidf[train_corpus]\n",
        "test_corpus_tfidf = tfidf[test_corpus]"
      ],
      "execution_count": 0,
      "outputs": []
    },
    {
      "cell_type": "code",
      "metadata": {
        "id": "hM1HY-5cFKzm",
        "colab_type": "code",
        "colab": {}
      },
      "source": [
        "x_train = corpus2csc(train_corpus_tfidf)\n",
        "x_test = corpus2csc(test_corpus_tfidf)"
      ],
      "execution_count": 0,
      "outputs": []
    },
    {
      "cell_type": "code",
      "metadata": {
        "id": "mF3YOCFxFSEu",
        "colab_type": "code",
        "outputId": "993383a8-9b76-49eb-c413-a1d3e4c1f76b",
        "colab": {
          "base_uri": "https://localhost:8080/",
          "height": 88
        }
      },
      "source": [
        "from sklearn.linear_model import LogisticRegression\n",
        "\n",
        "model = LogisticRegression()\n",
        "\n",
        "model.fit(x_train.T, y_train)\n",
        "\n",
        "model.score(x_test.T, y_test)"
      ],
      "execution_count": 169,
      "outputs": [
        {
          "output_type": "stream",
          "text": [
            "/usr/local/lib/python3.6/dist-packages/sklearn/linear_model/logistic.py:432: FutureWarning: Default solver will be changed to 'lbfgs' in 0.22. Specify a solver to silence this warning.\n",
            "  FutureWarning)\n"
          ],
          "name": "stderr"
        },
        {
          "output_type": "execute_result",
          "data": {
            "text/plain": [
              "0.7039087947882736"
            ]
          },
          "metadata": {
            "tags": []
          },
          "execution_count": 169
        }
      ]
    },
    {
      "cell_type": "code",
      "metadata": {
        "id": "aYbs371PeGkt",
        "colab_type": "code",
        "colab": {}
      },
      "source": [
        ""
      ],
      "execution_count": 0,
      "outputs": []
    }
  ]
}